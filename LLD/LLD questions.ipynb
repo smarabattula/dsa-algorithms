{
 "cells": [
  {
   "cell_type": "markdown",
   "metadata": {},
   "source": [
    "## Pizza Builder\n",
    "### Design Patterns used: **Builder, Strategy** <br>\n",
    "You are tasked with designing a Pizza Ordering System. The system should allow customers to build and customize their pizzas based on the following components:\n",
    " - Base, Dough, Size (Mandatory, = 1 each per pizza)\n",
    " - Toppings          (Optional, >= 0)\n",
    " - Calculate price based on Strategy\n",
    " <br>\n",
    " Design Patterns used: "
   ]
  },
  {
   "cell_type": "code",
   "execution_count": null,
   "metadata": {},
   "outputs": [
    {
     "name": "stdout",
     "output_type": "stream",
     "text": [
      "False\n"
     ]
    }
   ],
   "source": [
    "import importlib\n",
    "from PizzaBuilder import *\n",
    "\n",
    "# Reload the module to ensure changes are applied\n",
    "importlib.reload(importlib.import_module('PizzaBuilder'))\n",
    "\n",
    "b1: Base = ThinCrustBase()\n",
    "s1: Size = Size(PizzaSize.Medium)\n",
    "d1: Dough = Dough(DoughTypes.SourDough)\n",
    "t1: Topping = Topping(ToppingTypes.Chicken)\n",
    "t2: Topping = Topping(ToppingTypes.Onion)\n",
    "\n",
    "pb = PizzaBuilder()\n",
    "pizza = pb.setBase(b1).setDough(d1).setSize(s1).addTopping(t1).addTopping(t2).build()\n",
    "\n",
    "pizza2 = pizza.clone()\n",
    "\n",
    "print(pizza.getBase() == pizza2.getBase())\n"
   ]
  },
  {
   "cell_type": "markdown",
   "metadata": {},
   "source": [
    "## Hotel Management\n",
    "\n",
    "### Design Patterns used: **Singleton, Factory, Strategy** <br>\n",
    "- Hotel has Rooms of different types \n",
    "- Room has id, isChecked, price\n",
    "\n",
    "- Reservation can be made on rooms\n",
    "- Reservation has id, customer, checkInTime, checkOutTime\n",
    "- Reservation has price calculation logic\n",
    "\n",
    "- Customer can create, cancel Reservations and can modify check out time\n",
    "- Customer can pay via various payment modes\n",
    "\n",
    "- Manager can create/edit Room"
   ]
  },
  {
   "cell_type": "code",
   "execution_count": null,
   "metadata": {},
   "outputs": [
    {
     "name": "stdout",
     "output_type": "stream",
     "text": [
      "Reservations before 1 checkout: {'5013E553': <HotelManagement.Reservation object at 0x00000188E37A0170>, 'AE86C9B3': <HotelManagement.Reservation object at 0x00000188E4D4C800>}\n",
      "1750\n",
      "Reservations after 1 checkout: {'AE86C9B3': <HotelManagement.Reservation object at 0x00000188E4D4C800>}\n"
     ]
    }
   ],
   "source": [
    "import importlib\n",
    "from HotelManagement import *\n",
    "\n",
    "# Reload the module to ensure changes are applied\n",
    "importlib.reload(importlib.import_module('HotelManagement'))\n",
    "\n",
    "hm = HotelManagement.get_instance()\n",
    "\n",
    "# Add rooms\n",
    "room1 = Room('101', RoomType.DELUXE)\n",
    "room2 = Room('102', RoomType.SUITE)\n",
    "hm.add_room(room1)\n",
    "hm.add_room(room2)\n",
    "\n",
    "# Add customers\n",
    "cust1 = Customer('1', 'John', '9876543210', 'jd@jd.com', 'qwerty, qwerty, 12345, NY')\n",
    "cust2 = Customer('2', 'Jane', '1234567890', 'jd@janesmith.com', 'asdfg, asdfg, 54321, NV')\n",
    "hm.add_customer(cust1)\n",
    "hm.add_customer(cust2)\n",
    "\n",
    "# Book rooms\n",
    "reservation1 = hm.book_room(room1, cust1, datetime.now(), datetime(2024, 12, 1, 10, 0))\n",
    "reservation2 = hm.book_room(room2, cust2, datetime.now(), datetime(2024, 12, 1, 10, 0))\n",
    "\n",
    "# Check in\n",
    "hm.check_in(reservation1._id)\n",
    "hm.check_in(reservation2._id)\n",
    "\n",
    "print(\"Reservations before 1 checkout:\", hm._reservations)\n",
    "\n",
    "# Check out\n",
    "hm.check_out(reservation1._id, CreditCardPayment())\n",
    "# hm.check_out(reservation2._id, CashPayment())\n",
    "print(reservation1.calculatePrice())\n",
    "# Print reservations\n",
    "print(\"Reservations after 1 checkout:\", hm._reservations)\n",
    "\n",
    "hm2 = HotelManagement.get_instance()\n"
   ]
  },
  {
   "cell_type": "markdown",
   "metadata": {},
   "source": [
    "## Unix File Search\n",
    "### Design Patterns used: **Specification (or) Chain or Responsibility** <br>\n",
    "Design Unix File Search API to search file with different arguments as \"extension\", \"name\", \"size\". <br>\n",
    "The design should be maintainable to add new constraints <br>\n",
    "the api will support finding files that has given size requirements and a file with a certain format like pdf, xml, doc\n"
   ]
  },
  {
   "cell_type": "code",
   "execution_count": 138,
   "metadata": {},
   "outputs": [
    {
     "name": "stdout",
     "output_type": "stream",
     "text": [
      "And Result\n",
      "{'name': 'File 2', 'isFile': True, 'children': None, 'ext': 'xml', 'size': 4.5}\n",
      "Or Result\n",
      "{'name': 'File 3', 'isFile': True, 'children': None, 'ext': 'pdf', 'size': 6}\n",
      "{'name': 'File 2', 'isFile': True, 'children': None, 'ext': 'xml', 'size': 4.5}\n"
     ]
    }
   ],
   "source": [
    "import importlib\n",
    "from FileSearchSpecification import *\n",
    "\n",
    "# Reload the module to ensure changes are applied\n",
    "importlib.reload(importlib.import_module('FileSearchSpecification'))\n",
    "\n",
    "# root |\n",
    "#        file 3\n",
    "#        home |\n",
    "#               file2\n",
    "#               file4\n",
    "\n",
    "fs = FileSystem()\n",
    "\n",
    "file2 = File(\"File 2\", \"xml\", 4.5)\n",
    "file3 = File(\"File 3\", \"pdf\", 6)\n",
    "file4 = File(\"File 4\", \"jpg\", 3)\n",
    "\n",
    "d1 = Directory(\"home\")\n",
    "\n",
    "d1.children.append(file2)\n",
    "d1.children.append(file4)\n",
    "fs._root.children.append(file3)\n",
    "fs._root.children.append(d1)\n",
    "\n",
    "xml_is_satisfied_by = ExtensionFilter(\"xml\")\n",
    "large_size_is_satisfied_by = SizeFilter(min_size= 5)\n",
    "and_is_satisfied_by = xml_is_satisfied_by._and(large_size_is_satisfied_by)\n",
    "or_is_satisfied_by = xml_is_satisfied_by._or(large_size_is_satisfied_by)\n",
    "\n",
    "and_result = fs.search(\"\", xml_is_satisfied_by)\n",
    "or_result = fs.search(\"\", or_is_satisfied_by)\n",
    "\n",
    "print(\"And Result\")\n",
    "for file in and_result:\n",
    "    print(file.__dict__)\n",
    "print(\"Or Result\")\n",
    "for file in or_result:\n",
    "    print(file.__dict__)\n",
    "\n"
   ]
  },
  {
   "cell_type": "code",
   "execution_count": 142,
   "metadata": {},
   "outputs": [
    {
     "name": "stdout",
     "output_type": "stream",
     "text": [
      "And Result\n",
      "Or Result\n",
      "{'name': 'File 3', 'isFile': True, 'children': None, 'ext': 'pdf', 'size': 6}\n",
      "{'name': 'File 2', 'isFile': True, 'children': None, 'ext': 'xml', 'size': 4.5}\n"
     ]
    }
   ],
   "source": [
    "import importlib\n",
    "from FileSearchChain import *\n",
    "\n",
    "# Reload the module to ensure changes are applied\n",
    "importlib.reload(importlib.import_module('FileSearchChain'))\n",
    "\n",
    "# root |\n",
    "#        file 3\n",
    "#        home |\n",
    "#               file2\n",
    "#               file4\n",
    "\n",
    "# Define filters\n",
    "xml_filter = Extension(\"xml\", None, False)  # Match files with \"xml\" extension\n",
    "xml_or_large_filter = Size(5, None, xml_filter, True) # Size(5, None, None, True)  # Match files larger than 5MB\n",
    "xml_and_large_filter = Size(5, None, xml_filter, False)\n",
    "\n",
    "and_result = fs.search(\"\", xml_and_large_filter)\n",
    "or_result = fs.search(\"\", xml_or_large_filter)\n",
    "\n",
    "print(\"And Result\")\n",
    "for file in and_result:\n",
    "    print(file.__dict__)\n",
    "print(\"Or Result\")\n",
    "for file in or_result:\n",
    "    print(file.__dict__)\n",
    "\n"
   ]
  },
  {
   "cell_type": "markdown",
   "metadata": {},
   "source": [
    "## Tic Tac Toe\n",
    "### Design Patterns used: **State**<br>\n",
    "Implement a Tic Tac Toe game. <br>\n",
    "2 Players needs to be able to play a game of Tic Tac Toe <br>\n",
    "A player wins if he fills a row / column / diagonal of an n x n grid with his symbol <br>\n",
    "The game is drawn if neither player wins after all slots in grid are filled <br>"
   ]
  },
  {
   "cell_type": "code",
   "execution_count": null,
   "metadata": {},
   "outputs": [
    {
     "name": "stdout",
     "output_type": "stream",
     "text": [
      "Welcome to Tic Tac Toe!\n",
      "Enter 'exit' at any time to quit the game.\n",
      "Player John's turn\n",
      "Accepted Move\n",
      "Player Jane's turn\n",
      "Accepted Move\n",
      "Player John's turn\n",
      "Accepted Move\n",
      "Player Jane's turn\n",
      "Accepted Move\n",
      "Player John's turn\n",
      "Accepted Move\n",
      "Player Jane's turn\n",
      "Accepted Move\n",
      "Player John's turn\n",
      "Accepted Move\n",
      "Player Jane's turn\n",
      "Accepted Move\n",
      "Player John's turn\n",
      "Stalemate: Board Full!\n",
      "Game Over!\n"
     ]
    }
   ],
   "source": [
    "# Game\n",
    "# Board -   1 (n * n)\n",
    "# Players - 2 (name, id)\n",
    "# Moves - (x, y, player)\n",
    "\n",
    "import importlib\n",
    "from TicTacToe import *\n",
    "\n",
    "# Reload the module to ensure changes are applied\n",
    "importlib.reload(importlib.import_module('TicTacToe'))\n",
    "\n",
    "if __name__ == \"__main__\":\n",
    "    p1 = Player(\"John\", \"1\")\n",
    "    p2 = Player(\"Jane\", \"2\")\n",
    "    game = Game(p1, p2, 3)\n",
    "\n",
    "    game.play()\n"
   ]
  },
  {
   "cell_type": "markdown",
   "metadata": {},
   "source": [
    "## Meeting Scheduler\n",
    "Implement a meeting scheduler application that allows users to schedule and manage meetings. The application should do this: <br>\n",
    "- Users can create, update, and delete meetings. \n",
    "- Each meeting has a start time, end time, and attendees. \n",
    "- The application should prevent users from scheduling overlapping meetings. \n",
    "- Users can view a calendar of scheduled meetings. \n",
    "- The application should be easy to maintain and easy to extend with additional features in the future. \n"
   ]
  },
  {
   "cell_type": "code",
   "execution_count": 13,
   "metadata": {},
   "outputs": [
    {
     "name": "stdout",
     "output_type": "stream",
     "text": [
      "True True\n",
      "{<Meetings.Meeting object at 0x000002006F370B00>, <Meetings.Meeting object at 0x000002006F371A70>}\n",
      "False\n",
      "True\n",
      "{<Meetings.Meeting object at 0x000002006F370B00>, <Meetings.Meeting object at 0x000002006F309FD0>}\n"
     ]
    }
   ],
   "source": [
    "from Meetings import MeetingScheduler, User, TimeSlot, Meeting\n",
    "\n",
    "scheduler = MeetingScheduler.getInstance()\n",
    "\n",
    "user1 = User(\"John\",  \"1\")\n",
    "user2 = User(\"Jane\",  \"2\")\n",
    "user3 = User(\"Smith\", \"3\")\n",
    "timeslot1 = TimeSlot(datetime(year=2023, month=11, day=27, hour=15, minute=30),\n",
    "                     datetime(year=2023, month=11, day=27, hour=16, minute=30))\n",
    "timeslot2 = TimeSlot(datetime(year=2024, month=11, day=27, hour=8, minute=30),\n",
    "                     datetime(year=2024, month=11, day=27, hour=17, minute=30))\n",
    "meeting1 = Meeting('1', timeslot1, [user1, user2, user3])\n",
    "meeting2 = Meeting('2', timeslot2, [user1, user2])\n",
    "\n",
    "print(scheduler.create_meeting(meeting1), scheduler.create_meeting(meeting2))\n",
    "\n",
    "timeslot3 = TimeSlot(datetime(year=2023, month=11, day=27, hour=15, minute=30),\n",
    "                     datetime(year=2023, month=11, day=27, hour=16, minute=10))\n",
    "\n",
    "meeting3 = Meeting('3', timeslot3, [user1, user3])\n",
    "print(user1.calendar)\n",
    "print(scheduler.create_meeting(meeting3))\n",
    "print(scheduler.update_meeting(meeting1,meeting3))\n",
    "print(user1.calendar)"
   ]
  },
  {
   "cell_type": "markdown",
   "metadata": {},
   "source": [
    "## Elevator System \n",
    "- Elevator - Up, Down, Idle\n",
    "- Floor can be selected from inside and outside buttons\n",
    "- Servers all requests in current direction before serving opposite direction \n",
    "- Has capacity - max no of persons\n",
    "- Priority - Up has more priority than down => IDLE ~ UP"
   ]
  },
  {
   "cell_type": "code",
   "execution_count": null,
   "metadata": {},
   "outputs": [],
   "source": []
  },
  {
   "cell_type": "markdown",
   "metadata": {},
   "source": [
    "## Parking Lot"
   ]
  },
  {
   "cell_type": "markdown",
   "metadata": {},
   "source": []
  }
 ],
 "metadata": {
  "kernelspec": {
   "display_name": "Python 3",
   "language": "python",
   "name": "python3"
  },
  "language_info": {
   "codemirror_mode": {
    "name": "ipython",
    "version": 3
   },
   "file_extension": ".py",
   "mimetype": "text/x-python",
   "name": "python",
   "nbconvert_exporter": "python",
   "pygments_lexer": "ipython3",
   "version": "undefined.undefined.undefined"
  }
 },
 "nbformat": 4,
 "nbformat_minor": 2
}
