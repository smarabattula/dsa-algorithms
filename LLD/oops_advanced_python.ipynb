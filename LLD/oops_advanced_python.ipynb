{
 "cells": [
  {
   "cell_type": "code",
   "execution_count": 27,
   "metadata": {},
   "outputs": [
    {
     "name": "stdout",
     "output_type": "stream",
     "text": [
      "I am more private\n"
     ]
    }
   ],
   "source": [
    "class Example:\n",
    "    def __init__(self):\n",
    "        self.__private_var = \"I am more private\"\n",
    "\n",
    "obj = Example()\n",
    "# print(obj.__private_var)  # AttributeError: 'Example' object has no attribute '__private_var'\n",
    "\n",
    "# Access using name mangling\n",
    "print(obj._Example__private_var)  # Works, but not recommended\n"
   ]
  },
  {
   "cell_type": "code",
   "execution_count": null,
   "metadata": {},
   "outputs": [
    {
     "name": "stdout",
     "output_type": "stream",
     "text": [
      "Creating new class instance id: 2779568785824\n",
      "\n",
      "Instance variable ID: 2779587575008\n",
      "Class instance id: 2779568785824 already created!\n",
      "\n",
      "Instance variable ID: 2779587575008\n"
     ]
    }
   ],
   "source": [
    "import threading\n",
    "\n",
    "class Singleton:\n",
    "    __instance = None\n",
    "    __lock = threading.Lock()  # Ensure thread safety\n",
    "\n",
    "    def __new__(cls, *args, **kwargs):\n",
    "        if not cls.__instance:\n",
    "            print(f\"Creating new class instance id: {id(cls)}\\n\")\n",
    "            with cls.__lock:\n",
    "                if not cls.__instance:  # Double-checked locking\n",
    "\n",
    "                    cls.__instance = super().__new__(cls, *args, **kwargs)\n",
    "        else:\n",
    "            print(f\"Class instance id: {id(cls)} already created!\\n\")\n",
    "        return cls.__instance\n",
    "\n",
    "def create_singleton():\n",
    "    instance = Singleton()\n",
    "    print(f\"Instance variable ID: {id(instance)}\")\n",
    "\n",
    "# Create threads\n",
    "t1 = threading.Thread(target=create_singleton)\n",
    "t2 = threading.Thread(target=create_singleton)\n",
    "\n",
    "t1.start()\n",
    "t2.start()\n",
    "\n",
    "t1.join()\n",
    "t2.join()\n",
    "\n",
    "\n",
    "# # Check if both threads created the same instance\n",
    "# singleton1 = Singleton()\n",
    "# print(singleton1._Singleton__instance)\n",
    "# singleton2 = Singleton()\n",
    "# print(singleton1 is singleton2)  # True\n"
   ]
  },
  {
   "cell_type": "code",
   "execution_count": null,
   "metadata": {},
   "outputs": [
    {
     "name": "stdout",
     "output_type": "stream",
     "text": [
      "Driving on the road\n",
      "Flying in the air\n",
      "None\n"
     ]
    }
   ],
   "source": [
    "from abc import ABC, abstractmethod\n",
    "\n",
    "# Interface like abstract class\n",
    "class Drivable(ABC):\n",
    "    # Abstract method decorator\n",
    "    @abstractmethod\n",
    "    def drive(self):\n",
    "        pass\n",
    "\n",
    "# Interface like abstract class\n",
    "class Flyable(ABC):\n",
    "    @abstractmethod\n",
    "    def fly(self):\n",
    "        pass\n",
    "\n",
    "class FlyingCar(Drivable, Flyable):  # Multiple inheritance with interface like abstract classes\n",
    "    def drive(self):\n",
    "        return \"Driving on the road\"\n",
    "\n",
    "    def fly(self):\n",
    "        return \"Flying in the air\"\n",
    "\n",
    "flying_car = FlyingCar()\n",
    "print(flying_car.drive())  # Output: Driving on the road\n",
    "print(flying_car.fly())    # Output: Flying in the air\n",
    "car = Drivable()\n",
    "print(car.drive())\n"
   ]
  },
  {
   "cell_type": "code",
   "execution_count": null,
   "metadata": {},
   "outputs": [
    {
     "name": "stdout",
     "output_type": "stream",
     "text": [
      "cse\n"
     ]
    }
   ],
   "source": [
    "# Python program to show that the variables with a value\n",
    "# assigned in class declaration, are class variables\n",
    "\n",
    "# Class for Computer Science Student\n",
    "class CSStudent:\n",
    "    stream = 'cse'                  # Class Variable\n",
    "    def __init__(self,name,roll):\n",
    "        self.name = name            # Instance Variable\n",
    "        self.roll = roll            # Instance Variable\n",
    "\n",
    "# Objects of CSStudent class\n",
    "a = CSStudent('Geek', 1)\n",
    "b = CSStudent('Nerd', 2)\n",
    "\n",
    "# Class variables can be accessed using class\n",
    "# name also\n",
    "print(CSStudent.stream) # prints \"cse\""
   ]
  },
  {
   "cell_type": "code",
   "execution_count": null,
   "metadata": {},
   "outputs": [
    {
     "name": "stdout",
     "output_type": "stream",
     "text": [
      "ece\n",
      "cse\n"
     ]
    }
   ],
   "source": [
    "# This binds the stream variable to the instance a, making 'a' having its own copy\n",
    "a.stream = 'ece'\n",
    "print(a.stream) # prints 'ece'\n",
    "print(b.stream) # prints 'cse'\n"
   ]
  },
  {
   "cell_type": "code",
   "execution_count": null,
   "metadata": {},
   "outputs": [
    {
     "name": "stdout",
     "output_type": "stream",
     "text": [
      "ece\n",
      "mech\n"
     ]
    }
   ],
   "source": [
    "# To change the stream for all instances of the class, we can change it\n",
    "# directly from the class\n",
    "CSStudent.stream = 'mech'\n",
    "\n",
    "print(a.stream) # prints 'ece' as stream is bound to instance a\n",
    "print(b.stream) # prints 'mech' as stream is cound to class CSStudent"
   ]
  },
  {
   "cell_type": "code",
   "execution_count": null,
   "metadata": {},
   "outputs": [
    {
     "name": "stdout",
     "output_type": "stream",
     "text": [
      "A rectangle is a quadrilateral with four right angles.\n",
      "Created Rectangle: Rectangle(width=10, height=5)\n"
     ]
    }
   ],
   "source": [
    "from abc import ABC, abstractmethod\n",
    "from dataclasses import dataclass\n",
    "from typing import ClassVar\n",
    "\n",
    "# Custom decorator for logging\n",
    "def log_method(func):\n",
    "    def wrapper(*args, **kwargs):\n",
    "        print(f\"Calling method: {func.__name__} with args: {args} and kwargs: {kwargs}\")\n",
    "        result = func(*args, **kwargs)\n",
    "        print(f\"Method {func.__name__} returned: {result}\")\n",
    "        return result\n",
    "    return wrapper\n",
    "\n",
    "# Abstract Base Class using @abstractmethod and extending ABC\n",
    "class Shape(ABC):\n",
    "    def __init__(self, color):\n",
    "        self.color = color\n",
    "\n",
    "    @abstractmethod\n",
    "    def area(self):\n",
    "        \"\"\"Abstract method to calculate area\"\"\"\n",
    "        pass\n",
    "\n",
    "    @staticmethod\n",
    "    def describe_shape():\n",
    "        \"\"\"A utility method not tied to any instance or class\"\"\"\n",
    "        return \"Shapes are two-dimensional geometrical figures.\"\n",
    "\n",
    "    @classmethod\n",
    "    def from_color(cls, color):\n",
    "        \"\"\"Alternative constructor\"\"\"\n",
    "        return cls(color)\n",
    "\n",
    "    @property\n",
    "    def color_info(self):\n",
    "        \"\"\"Property to get the color of the shape\"\"\"\n",
    "        return f\"The shape is {self.color}\"\n",
    "\n",
    "    @color_info.setter\n",
    "    def color_info(self, new_color):\n",
    "        \"\"\"Setter to update the color of the shape\"\"\"\n",
    "        self.color = new_color\n",
    "\n",
    "\n",
    "@dataclass\n",
    "class Rectangle(Shape):\n",
    "    width: float\n",
    "    height: float\n",
    "    name: ClassVar[str] = \"Rectangle\"\n",
    "    def __init__(self, width, height, color=\"unknown\"):\n",
    "        super().__init__(color)\n",
    "        self.width = width\n",
    "        self.height = height\n",
    "\n",
    "    @log_method\n",
    "    def area(self):\n",
    "        \"\"\"Overriding the abstract method\"\"\"\n",
    "        return self.width * self.height\n",
    "\n",
    "    @staticmethod\n",
    "    def describe_shape():\n",
    "        \"\"\"Overriding static method\"\"\"\n",
    "        return \"A rectangle is a quadrilateral with four right angles.\"\n",
    "\n",
    "\n",
    "# Testing the class\n",
    "if __name__ == \"__main__\":\n",
    "    # Using @staticmethod\n",
    "    print(Rectangle.describe_shape())  # Output: A rectangle is a quadrilateral with four right angles.\n",
    "\n",
    "    # Using @classmethod\n",
    "    rect1 = Rectangle(10, 5)\n",
    "    print(f\"Created {Rectangle.name}: {rect1}\")  # Output Rectangle: With Specific..\n"
   ]
  },
  {
   "cell_type": "code",
   "execution_count": 136,
   "metadata": {},
   "outputs": [
    {
     "name": "stdout",
     "output_type": "stream",
     "text": [
      "Point(x=1, y=2)\n",
      "True\n"
     ]
    }
   ],
   "source": [
    "from dataclasses import dataclass\n",
    "\n",
    "@dataclass\n",
    "class Point:\n",
    "    x: int\n",
    "    y: int\n",
    "\n",
    "p1 = Point(1, 2)\n",
    "p2 = Point(1, 2)\n",
    "print(p1)         # Output: Point(x=1, y=2)\n",
    "print(p1 == p2)   # Output: True"
   ]
  },
  {
   "cell_type": "code",
   "execution_count": null,
   "metadata": {},
   "outputs": [],
   "source": []
  }
 ],
 "metadata": {
  "kernelspec": {
   "display_name": "Python 3",
   "language": "python",
   "name": "python3"
  },
  "language_info": {
   "codemirror_mode": {
    "name": "ipython",
    "version": 3
   },
   "file_extension": ".py",
   "mimetype": "text/x-python",
   "name": "python",
   "nbconvert_exporter": "python",
   "pygments_lexer": "ipython3",
   "version": "3.12.4"
  }
 },
 "nbformat": 4,
 "nbformat_minor": 2
}
