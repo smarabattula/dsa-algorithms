{
 "cells": [
  {
   "cell_type": "code",
   "execution_count": 1,
   "metadata": {},
   "outputs": [
    {
     "name": "stdout",
     "output_type": "stream",
     "text": [
      "Hello world\n"
     ]
    }
   ],
   "source": [
    "print(\"Hello world\")"
   ]
  },
  {
   "cell_type": "code",
   "execution_count": 9,
   "metadata": {},
   "outputs": [
    {
     "name": "stdout",
     "output_type": "stream",
     "text": [
      "0\n",
      "1\n",
      "4\n",
      "2\n",
      "0\n",
      "while loop 0\n",
      "while loop 1\n"
     ]
    }
   ],
   "source": [
    "a = 1\n",
    "b = 2\n",
    "\n",
    "for i in range(b):\n",
    "    print(i)\n",
    "\n",
    "for i in range(4,-1,-2):\n",
    "    print(i)\n",
    "\n",
    "while i < 2:\n",
    "    print(f\"while loop {i}\")\n",
    "    i += 1"
   ]
  },
  {
   "cell_type": "code",
   "execution_count": 72,
   "metadata": {},
   "outputs": [
    {
     "name": "stdout",
     "output_type": "stream",
     "text": [
      "q1 <class 'str'>\n"
     ]
    }
   ],
   "source": [
    "inp = input(\"type here something\")\n",
    "print(inp,type(inp))"
   ]
  },
  {
   "cell_type": "code",
   "execution_count": 78,
   "metadata": {},
   "outputs": [
    {
     "data": {
      "text/plain": [
       "(1.0, 1.0, 5.0)"
      ]
     },
     "execution_count": 78,
     "metadata": {},
     "output_type": "execute_result"
    }
   ],
   "source": [
    "1/1.0, 1./1, 1+2/2*4"
   ]
  },
  {
   "cell_type": "code",
   "execution_count": 35,
   "metadata": {},
   "outputs": [
    {
     "name": "stdout",
     "output_type": "stream",
     "text": [
      "1\t2\t[3, 4]\n",
      "[1, 2]\n",
      "[[3, 4], 2, 1]\n"
     ]
    }
   ],
   "source": [
    "a = [1,2,[3,4]]\n",
    "print(*a,sep = \"\\t\")\n",
    "\n",
    "print(a[0:2])\n",
    "print(a[::-1])"
   ]
  },
  {
   "cell_type": "code",
   "execution_count": 21,
   "metadata": {},
   "outputs": [
    {
     "data": {
      "text/plain": [
       "('', 'best', 'is', '')"
      ]
     },
     "execution_count": 21,
     "metadata": {},
     "output_type": "execute_result"
    }
   ],
   "source": [
    "test_list = (\"\", \"GeeksforGeeks\", \"\", \"is\", \"best\", \"\")\n",
    "test_list[:1:-1]"
   ]
  },
  {
   "cell_type": "code",
   "execution_count": 25,
   "metadata": {},
   "outputs": [
    {
     "ename": "TypeError",
     "evalue": "'tuple' object does not support item assignment",
     "output_type": "error",
     "traceback": [
      "\u001b[1;31m---------------------------------------------------------------------------\u001b[0m",
      "\u001b[1;31mTypeError\u001b[0m                                 Traceback (most recent call last)",
      "Cell \u001b[1;32mIn[25], line 1\u001b[0m\n\u001b[1;32m----> 1\u001b[0m \u001b[43mtest_list\u001b[49m\u001b[43m[\u001b[49m\u001b[38;5;241;43m0\u001b[39;49m\u001b[43m]\u001b[49m \u001b[38;5;241m=\u001b[39m \u001b[38;5;241m1\u001b[39m\n",
      "\u001b[1;31mTypeError\u001b[0m: 'tuple' object does not support item assignment"
     ]
    }
   ],
   "source": [
    "test_list[0] = 1"
   ]
  },
  {
   "cell_type": "code",
   "execution_count": 48,
   "metadata": {},
   "outputs": [
    {
     "name": "stdout",
     "output_type": "stream",
     "text": [
      "Geeks : 1, Portal :  55.3330\n",
      "Total students :   240, Boys :         120\n",
      "    031\n",
      " 3.561E+02\n"
     ]
    }
   ],
   "source": [
    "# %[flags][width][.precision]type\n",
    "print(\"Geeks : %1d, Portal : %8.4f\" % (1, 55.333))\n",
    "\n",
    "print(\"Total students : %5d, Boys : %11d\" % (240, 120))   # print integer value\n",
    "\n",
    "print(\"%7.3o\" % (25))   # print octal value\n",
    "\n",
    "print(\"%10.3E\" % (356.08977))   # print exponential value"
   ]
  },
  {
   "cell_type": "code",
   "execution_count": 54,
   "metadata": {},
   "outputs": [
    {
     "name": "stdout",
     "output_type": "stream",
     "text": [
      "dict_keys([1, 2]) dict_values(['a', 'b']) dict_items([(1, 'a'), (2, 'b')])\n"
     ]
    }
   ],
   "source": [
    "d1 = {1:'a',2:'b'}\n",
    "print(d1.keys(),d1.values(),d1.items())"
   ]
  },
  {
   "cell_type": "code",
   "execution_count": 63,
   "metadata": {},
   "outputs": [
    {
     "name": "stdout",
     "output_type": "stream",
     "text": [
      "0 aa\n",
      "1 b\n",
      "2 habibi\n",
      "(1, 'aa')\n",
      "(2, 'b')\n",
      "(3, 'habibi')\n",
      "dict_items([(1, 'aa'), (2, 'b'), (3, 'habibi')])\n"
     ]
    }
   ],
   "source": [
    "for index,j in enumerate(d1.values()):\n",
    "    print(index,j)\n",
    "\n",
    "for i in d1.items():\n",
    "    print(i)\n",
    "d1[1] = 'aa'\n",
    "d1[3] = 'habibi'\n",
    "print(d1.items())"
   ]
  },
  {
   "cell_type": "code",
   "execution_count": 81,
   "metadata": {},
   "outputs": [
    {
     "name": "stdout",
     "output_type": "stream",
     "text": [
      "{1, 2, 3, '1'}\n",
      "Yes\n"
     ]
    }
   ],
   "source": [
    "s1 = {1,2,2,3}\n",
    "s1.add('1')\n",
    "print(s1)\n",
    "\n",
    "user = 1\n",
    "match user:\n",
    "    case 1:\n",
    "        print(\"Yes\")\n",
    "    case 2:\n",
    "        print(\"No\")\n",
    "    case _:\n",
    "        print(\" None \")\n",
    "\n"
   ]
  },
  {
   "cell_type": "code",
   "execution_count": 88,
   "metadata": {},
   "outputs": [
    {
     "name": "stdout",
     "output_type": "stream",
     "text": [
      "1\n",
      "1 0\n",
      "[(2, 8), (4, 64)]\n"
     ]
    }
   ],
   "source": [
    "# ternary operator\n",
    "print(1 if True > False else 0) #\n",
    "print(int(True),int(False))\n",
    "\n",
    "# list comprehension\n",
    "print([(i,i**3) for i in range(1,5) if i %2 == 0])\n",
    "\n"
   ]
  },
  {
   "cell_type": "code",
   "execution_count": 90,
   "metadata": {},
   "outputs": [
    {
     "name": "stdout",
     "output_type": "stream",
     "text": [
      "7 7 7 10 {'a': 1, 'b': 2}\n"
     ]
    }
   ],
   "source": [
    "# Positional\n",
    "def func1(a, b):\n",
    "    return a + b\n",
    "\n",
    "result1 = func1(3, 4)  # 3 is assigned to a, and 4 is assigned to b\n",
    "\n",
    "# Keyword\n",
    "def func2(a, b):\n",
    "    return a + b\n",
    "\n",
    "result2 = func2(b=4, a=3)  # 3 is assigned to a, and 4 to b regardless of order\n",
    "\n",
    "# Default\n",
    "def func3(a, b=4):\n",
    "    return a + b\n",
    "\n",
    "result3 = func3(3)  # b defaults to 4, and 3 is assigned to a\n",
    "\n",
    "# Variable length\n",
    "def func4(*args):\n",
    "    return sum(args)\n",
    "\n",
    "result4 = func4(1, 2, 3, 4)  # args will be (1, 2, 3, 4)\n",
    "\n",
    "# Variable Length keyword Arguments\n",
    "# kwargs returns dict object with key = keyword and value = value\n",
    "def func5(**kwargs):\n",
    "    return kwargs\n",
    "\n",
    "result5 = func5(a=1, b=2)  # kwargs will be {'a': 1, 'b': 2}\n",
    "\n",
    "print(result1,result2,result3,result4,result5)"
   ]
  },
  {
   "cell_type": "code",
   "execution_count": 95,
   "metadata": {},
   "outputs": [
    {
     "name": "stdout",
     "output_type": "stream",
     "text": [
      "Positional-only arguments: a = 1, b = 2\n",
      "Default argument (c): 4\n",
      "Variable-length positional arguments (*args): (5, 5, 55)\n",
      "Keyword-only arguments: d = 6, e = 5\n",
      "Variable-length keyword arguments (**kwargs): {'x': 7, 'y': 8}\n",
      "Result of the function: 98\n"
     ]
    }
   ],
   "source": [
    "def complex_function(a, b, /, c=2, *args, d, e=5, **kwargs):\n",
    "    \"\"\"\n",
    "    Demonstrates the use of different types of function arguments in Python:\n",
    "    - Positional-only arguments: a, b\n",
    "    - Default argument: c\n",
    "    - Variable-length positional arguments: *args\n",
    "    - Keyword-only arguments: d, and optional e\n",
    "    - Variable-length keyword arguments: **kwargs\n",
    "    \"\"\"\n",
    "    print(f\"Positional-only arguments: a = {a}, b = {b}\")\n",
    "    print(f\"Default argument (c): {c}\")\n",
    "    print(f\"Variable-length positional arguments (*args): {args}\")\n",
    "    print(f\"Keyword-only arguments: d = {d}, e = {e}\")\n",
    "    print(f\"Variable-length keyword arguments (**kwargs): {kwargs}\")\n",
    "\n",
    "    # Example calculation\n",
    "    result = a + b + c + sum(args) + d + e + sum(kwargs.values())\n",
    "    return result\n",
    "\n",
    "# Example usage:\n",
    "result = complex_function(1, 2, 4, 5,5,55, d=6, x=7, y=8)\n",
    "print(\"Result of the function:\", result)\n"
   ]
  },
  {
   "cell_type": "code",
   "execution_count": 100,
   "metadata": {},
   "outputs": [
    {
     "name": "stdout",
     "output_type": "stream",
     "text": [
      "Value of x in inner_function_1: inner 2\n",
      "Value of x in outer_function: outer\n",
      "inner function: Python Favtutor Classes\n",
      "outer function: Favtutor\n"
     ]
    }
   ],
   "source": [
    "# nonlocal scope\n",
    "def outer_function():\n",
    "    x = \"outer\"\n",
    "\n",
    "    def inner_function_1():\n",
    "        x = \"inner 1\"\n",
    "\n",
    "        def inner_function_2():\n",
    "            nonlocal x\n",
    "            x = \"inner 2\"\n",
    "\n",
    "        inner_function_2()\n",
    "        print(\"Value of x in inner_function_1:\", x)\n",
    "\n",
    "    inner_function_1()\n",
    "    print(\"Value of x in outer_function:\", x)\n",
    "\n",
    "outer_function()\n",
    "\n",
    "# Global Scope\n",
    "def outer():\n",
    "    global string\n",
    "    string = \"Favtutor\"\n",
    "    def inner():\n",
    "        string= \"Python Favtutor Classes\" # Overwriting value of a variable string\n",
    "        print(\"inner function:\", string)\n",
    "\n",
    "    inner()\n",
    "    print(\"outer function:\", string)\n",
    "\n",
    "outer()"
   ]
  },
  {
   "cell_type": "code",
   "execution_count": 98,
   "metadata": {},
   "outputs": [
    {
     "name": "stdout",
     "output_type": "stream",
     "text": [
      "Hey!\n"
     ]
    }
   ],
   "source": [
    "# Closures\n",
    "def outerFunction(text):\n",
    "\n",
    "    def innerFunction():\n",
    "        print(text)\n",
    "\n",
    "    # Note we are returning function\n",
    "    # WITHOUT parenthesis\n",
    "    return innerFunction\n",
    "\n",
    "if __name__ == '__main__':\n",
    "    myFunction = outerFunction('Hey!')\n",
    "    myFunction()"
   ]
  },
  {
   "cell_type": "code",
   "execution_count": 102,
   "metadata": {},
   "outputs": [
    {
     "name": "stdout",
     "output_type": "stream",
     "text": [
      "[2, 4, 6, 8]\n",
      "[2, 4, 6, 8]\n"
     ]
    }
   ],
   "source": [
    "# map, reduce, lambda\n",
    "\n",
    "# map\n",
    "numbers = (1, 2, 3, 4)\n",
    "result = map(lambda x: x + x, numbers)\n",
    "print(list(result))\n",
    "\n",
    "def addition(n):\n",
    "    return n + n\n",
    "\n",
    "# We double all numbers using map()\n",
    "result = map(addition, numbers)\n",
    "print(list(result))"
   ]
  },
  {
   "cell_type": "code",
   "execution_count": 109,
   "metadata": {},
   "outputs": [
    {
     "name": "stdout",
     "output_type": "stream",
     "text": [
      "The filtered letters are:\n",
      "e\n",
      "e\n",
      "Odd list [1, 3, 5, 13]\n",
      "Even list [0, 2, 8]\n"
     ]
    }
   ],
   "source": [
    "# Filter\n",
    "def fun(variable):\n",
    "    letters = {'a', 'e', 'i', 'o', 'u'}\n",
    "    if variable in letters:\n",
    "        return True\n",
    "    else:\n",
    "        return False\n",
    "\n",
    "\n",
    "# sequence\n",
    "sequence = ['g', 'e', 'e', 'j', 'k', 's', 'p', 'r']\n",
    "\n",
    "# using filter function\n",
    "filtered = filter(fun, sequence)\n",
    "\n",
    "print('The filtered letters are:')\n",
    "for s in filtered:\n",
    "    print(s)\n",
    "\n",
    "# a list contains both even and odd numbers.\n",
    "seq = [0, 1, 2, 3, 5, 8, 13]\n",
    "\n",
    "# result contains odd numbers of the list\n",
    "result = filter(lambda x: x % 2 != 0, seq)\n",
    "print(\"Odd list\",list(result))\n",
    "\n",
    "# result contains even numbers of the list\n",
    "result = filter(lambda x: x % 2 == 0, seq)\n",
    "print(\"Even list\",list(result))"
   ]
  },
  {
   "cell_type": "code",
   "execution_count": 113,
   "metadata": {},
   "outputs": [
    {
     "name": "stdout",
     "output_type": "stream",
     "text": [
      "The sum of the even indexed list elements is : 8\n",
      "The maximum element of the list is : 6\n"
     ]
    }
   ],
   "source": [
    "# Reduce\n",
    "# importing functools for reduce()\n",
    "import functools\n",
    "\n",
    "\n",
    "# initializing list\n",
    "lis = [1, 3, 5, 6, 2]\n",
    "\n",
    "def sum1(*args):\n",
    "    return sum([lis[i] for i in range(len(lis)) if i % 2 == 0])\n",
    "# using reduce to compute sum of list\n",
    "print(\"The sum of the even indexed list elements is : \", end=\"\")\n",
    "print(functools.reduce(sum1, lis))\n",
    "\n",
    "# using reduce to compute maximum element from list\n",
    "print(\"The maximum element of the list is : \", end=\"\")\n",
    "print(functools.reduce(lambda a, b: a if a > b else b, lis))"
   ]
  },
  {
   "cell_type": "code",
   "execution_count": 114,
   "metadata": {},
   "outputs": [
    {
     "name": "stdout",
     "output_type": "stream",
     "text": [
      "Buddy barks!\n"
     ]
    }
   ],
   "source": [
    "# Classes\n",
    "class Dog:\n",
    "    def __init__(self, name, age):\n",
    "        self.name = name\n",
    "        self.age = age\n",
    "\n",
    "    def bark(self):\n",
    "        return f\"{self.name} barks!\"\n",
    "\n",
    "# Creating an object of Dog class\n",
    "buddy = Dog(\"Buddy\", 3)\n",
    "print(buddy.bark())  # Outputs: Buddy barks!\n"
   ]
  },
  {
   "cell_type": "code",
   "execution_count": 3,
   "metadata": {},
   "outputs": [
    {
     "name": "stdout",
     "output_type": "stream",
     "text": [
      "Whiskers Whiskers says Meow\n"
     ]
    }
   ],
   "source": [
    "# Inheritance\n",
    "class Animal:\n",
    "    def __init__(self, name):\n",
    "        self._name = name\n",
    "\n",
    "    # Method abstraction in base class\n",
    "    def speak(self):\n",
    "        raise NotImplementedError(\"Subclasses must implement this method\")\n",
    "\n",
    "class Cat(Animal):\n",
    "    def speak(self):\n",
    "        return f\"{self._name} says Meow\"\n",
    "\n",
    "# Using the inherited class\n",
    "whiskers = Cat(\"Whiskers\")\n",
    "\n",
    "print(whiskers._name,whiskers.speak())  # Outputs: Whiskers says Meow"
   ]
  },
  {
   "cell_type": "code",
   "execution_count": 128,
   "metadata": {},
   "outputs": [
    {
     "name": "stdout",
     "output_type": "stream",
     "text": [
      "Abstract Base Class\n",
      "subclass \n"
     ]
    }
   ],
   "source": [
    "# Python program invoking a\n",
    "# method using super()\n",
    "from abc import ABC\n",
    "\n",
    "class R(ABC):\n",
    "    def rk(self):\n",
    "        print(\"Abstract Base Class\")\n",
    "\n",
    "class K(R):\n",
    "    def rk(self):\n",
    "        super().rk()\n",
    "        print(\"subclass \")\n",
    "\n",
    "# Driver code\n",
    "r = K()\n",
    "r.rk()"
   ]
  },
  {
   "cell_type": "code",
   "execution_count": 117,
   "metadata": {},
   "outputs": [
    {
     "name": "stdout",
     "output_type": "stream",
     "text": [
      "Selling Price: 900\n",
      "Selling Price: 900\n",
      "Selling Price: 1000\n"
     ]
    }
   ],
   "source": [
    "# Encapsulation\n",
    "class Computer:\n",
    "    def __init__(self):\n",
    "        self.__max_price = 900\n",
    "\n",
    "    def sell(self):\n",
    "        return f\"Selling Price: {self.__max_price}\"\n",
    "\n",
    "    def set_max_price(self, price):\n",
    "        self.__max_price = price\n",
    "\n",
    "c = Computer()\n",
    "print(c.sell())  # Selling Price: 900\n",
    "\n",
    "c.__max_price = 1000  # Won't change the price because it's encapsulated\n",
    "print(c.sell())  # Selling Price: 900\n",
    "\n",
    "c.set_max_price(1000)\n",
    "print(c.sell())\n"
   ]
  },
  {
   "cell_type": "code",
   "execution_count": 118,
   "metadata": {},
   "outputs": [
    {
     "name": "stdout",
     "output_type": "stream",
     "text": [
      "There are many types of birds. Most of the birds can fly but some cannot.\n",
      "There are many types of birds. Sparrows can fly.\n",
      "There are many types of birds. Ostriches cannot fly.\n"
     ]
    }
   ],
   "source": [
    "# Polymorphism\n",
    "class Bird:\n",
    "    def intro(self):\n",
    "        return \"There are many types of birds.\"\n",
    "\n",
    "    def flight(self):\n",
    "        return \"Most of the birds can fly but some cannot.\"\n",
    "\n",
    "class Sparrow(Bird):\n",
    "    def flight(self):\n",
    "        return \"Sparrows can fly.\"\n",
    "\n",
    "class Ostrich(Bird):\n",
    "    def flight(self):\n",
    "        return \"Ostriches cannot fly.\"\n",
    "\n",
    "# Polymorphic use\n",
    "bird_list = [Bird(), Sparrow(), Ostrich()]\n",
    "for bird in bird_list:\n",
    "    print(bird.intro(), bird.flight())\n"
   ]
  },
  {
   "cell_type": "code",
   "execution_count": 15,
   "metadata": {},
   "outputs": [
    {
     "name": "stdout",
     "output_type": "stream",
     "text": [
      "/ 0 1 2 3 4 5 6 7 8 9 : ; < = > ? @ A B C D E F G H I J K L M N O P Q R S T U V W X Y Z [ \\ ] ^ _ ` a b c d e f g h i j k l m n o p q r s t u v w x y z { | } ~ \n",
      " 49\n"
     ]
    }
   ],
   "source": [
    "for i in range(47,127):\n",
    "    print(chr(i), end = \" \")"
   ]
  },
  {
   "cell_type": "code",
   "execution_count": 129,
   "metadata": {},
   "outputs": [
    {
     "name": "stdout",
     "output_type": "stream",
     "text": [
      "{0, 1, 3, 5, 6, 8}\n"
     ]
    }
   ],
   "source": [
    "A = {0, 2, 4, 6, 8};\n",
    "B = {1, 2, 3, 4, 5};\n",
    "\n",
    "print( A ^ B)"
   ]
  },
  {
   "cell_type": "code",
   "execution_count": 130,
   "metadata": {},
   "outputs": [
    {
     "ename": "TypeError",
     "evalue": "'str' object does not support item assignment",
     "output_type": "error",
     "traceback": [
      "\u001b[1;31m---------------------------------------------------------------------------\u001b[0m",
      "\u001b[1;31mTypeError\u001b[0m                                 Traceback (most recent call last)",
      "Cell \u001b[1;32mIn[130], line 2\u001b[0m\n\u001b[0;32m      1\u001b[0m \u001b[38;5;28mstr\u001b[39m\u001b[38;5;241m=\u001b[39m\u001b[38;5;124m'\u001b[39m\u001b[38;5;124mqwertyuiop\u001b[39m\u001b[38;5;124m'\u001b[39m\n\u001b[1;32m----> 2\u001b[0m \u001b[38;5;28;43mstr\u001b[39;49m\u001b[43m[\u001b[49m\u001b[38;5;241;43m2\u001b[39;49m\u001b[43m]\u001b[49m \u001b[38;5;241m=\u001b[39m\u001b[38;5;124m'\u001b[39m\u001b[38;5;124m0\u001b[39m\u001b[38;5;124m'\u001b[39m\n",
      "\u001b[1;31mTypeError\u001b[0m: 'str' object does not support item assignment"
     ]
    }
   ],
   "source": [
    "str='qwertyuiop'\n",
    "str[2] ='0'"
   ]
  },
  {
   "cell_type": "markdown",
   "metadata": {},
   "source": [
    "### NumPy Tutorials\n"
   ]
  },
  {
   "cell_type": "code",
   "execution_count": 131,
   "metadata": {},
   "outputs": [
    {
     "name": "stdout",
     "output_type": "stream",
     "text": [
      "Requirement already satisfied: numpy in c:\\users\\sasan\\appdata\\roaming\\python\\python312\\site-packages (1.26.4)\n",
      "Note: you may need to restart the kernel to use updated packages.\n"
     ]
    }
   ],
   "source": [
    "%pip install numpy"
   ]
  },
  {
   "cell_type": "code",
   "execution_count": 17,
   "metadata": {},
   "outputs": [
    {
     "data": {
      "text/plain": [
       "array([1, 2, 3])"
      ]
     },
     "execution_count": 17,
     "metadata": {},
     "output_type": "execute_result"
    }
   ],
   "source": [
    "import numpy as np\n",
    "\n",
    "np.array([1,2,3])"
   ]
  },
  {
   "cell_type": "code",
   "execution_count": 18,
   "metadata": {},
   "outputs": [
    {
     "name": "stdout",
     "output_type": "stream",
     "text": [
      "(4, 2, 2) 3 8 float64\n",
      "[[[ 0.  1.]\n",
      "  [ 2.  3.]]\n",
      "\n",
      " [[ 4.  5.]\n",
      "  [ 6.  7.]]\n",
      "\n",
      " [[ 8.  9.]\n",
      "  [10. 11.]]\n",
      "\n",
      " [[12. 13.]\n",
      "  [14. 15.]]]\n"
     ]
    }
   ],
   "source": [
    "a = np.arange(16.0).reshape(4, 2, 2)\n",
    "\n",
    "print(a.shape,a.ndim,a.itemsize,a.dtype)\n",
    "print(a)"
   ]
  },
  {
   "cell_type": "code",
   "execution_count": 19,
   "metadata": {},
   "outputs": [
    {
     "data": {
      "text/plain": [
       "(array([[0, 0, 0, 0],\n",
       "        [0, 0, 0, 0],\n",
       "        [0, 0, 0, 0]], dtype=int16),\n",
       " array([[[1, 1, 1, 1],\n",
       "         [1, 1, 1, 1],\n",
       "         [1, 1, 1, 1]],\n",
       " \n",
       "        [[1, 1, 1, 1],\n",
       "         [1, 1, 1, 1],\n",
       "         [1, 1, 1, 1]]], dtype=int16),\n",
       " array([[-1.42656443e-311, -2.12359768e+263,  1.42656856e-311],\n",
       "        [ 1.42656856e-311,  8.89318163e-323,  1.97626258e-323]]))"
      ]
     },
     "execution_count": 19,
     "metadata": {},
     "output_type": "execute_result"
    }
   ],
   "source": [
    "np.zeros((3, 4),dtype = np.int16), np.ones((2, 3, 4), dtype=np.int16), np.empty((2, 3))"
   ]
  },
  {
   "cell_type": "code",
   "execution_count": 20,
   "metadata": {},
   "outputs": [
    {
     "data": {
      "text/plain": [
       "(array([10, 15, 20, 25]),\n",
       " array([0. , 0.3, 0.6, 0.9, 1.2, 1.5, 1.8]),\n",
       " array([  0,   1,   8,  27,  64, 125, 216, 343, 512, 729], dtype=int32))"
      ]
     },
     "execution_count": 20,
     "metadata": {},
     "output_type": "execute_result"
    }
   ],
   "source": [
    "np.arange(10, 30, 5), np.arange(0, 2, 0.3), np.arange(10)**3 # it accepts float arguments\n"
   ]
  },
  {
   "cell_type": "code",
   "execution_count": 21,
   "metadata": {},
   "outputs": [
    {
     "name": "stdout",
     "output_type": "stream",
     "text": [
      "[[[ 0.  1.]\n",
      "  [ 2.  3.]]\n",
      "\n",
      " [[ 4.  5.]\n",
      "  [ 6.  7.]]\n",
      "\n",
      " [[ 8.  9.]\n",
      "  [10. 11.]]\n",
      "\n",
      " [[12. 13.]\n",
      "  [14. 15.]]]\n"
     ]
    },
    {
     "data": {
      "text/plain": [
       "(array([10., 14.]), array([ 9., 13.]))"
      ]
     },
     "execution_count": 21,
     "metadata": {},
     "output_type": "execute_result"
    }
   ],
   "source": [
    "print(a)\n",
    "a[2:4,1,0], a[2:4,0,1],\n"
   ]
  },
  {
   "cell_type": "code",
   "execution_count": 22,
   "metadata": {},
   "outputs": [
    {
     "data": {
      "text/plain": [
       "array([ 9.        ,  9.33333333,  9.66666667, 10.        ])"
      ]
     },
     "execution_count": 22,
     "metadata": {},
     "output_type": "execute_result"
    }
   ],
   "source": [
    "from numpy import pi\n",
    "np.linspace(9, 10, 4)\n"
   ]
  },
  {
   "cell_type": "code",
   "execution_count": 23,
   "metadata": {},
   "outputs": [
    {
     "name": "stdout",
     "output_type": "stream",
     "text": [
      "[ 0.  1.  2.  3.  4.  5.  6.  7.  8.  9. 10. 11. 12. 13. 14. 15.]\n",
      "[ 0.  1.  2.  3.  4.  5.  6.  7.  8.  9. 10. 11. 12. 13. 14. 15.]\n"
     ]
    }
   ],
   "source": [
    "print(a.ravel()) # Gives a view of flattened list\n",
    "print(a.flatten()) # Gives copy of flattened list"
   ]
  },
  {
   "cell_type": "code",
   "execution_count": 178,
   "metadata": {},
   "outputs": [
    {
     "data": {
      "text/plain": [
       "array([[ 0.,  1.,  2.,  3.],\n",
       "       [ 4.,  5.,  6.,  7.],\n",
       "       [ 8.,  9., 10., 11.],\n",
       "       [12., 13., 14., 15.]])"
      ]
     },
     "execution_count": 178,
     "metadata": {},
     "output_type": "execute_result"
    }
   ],
   "source": [
    "a.reshape(4,-1)"
   ]
  },
  {
   "cell_type": "code",
   "execution_count": 214,
   "metadata": {},
   "outputs": [
    {
     "name": "stdout",
     "output_type": "stream",
     "text": [
      "[[[7. 5.]\n",
      "  [1. 3.]]\n",
      "\n",
      " [[1. 6.]\n",
      "  [4. 2.]]] [[1. 8.]\n",
      " [8. 4.]]\n"
     ]
    },
    {
     "data": {
      "text/plain": [
       "(array([[[7., 5.],\n",
       "         [1., 3.]],\n",
       " \n",
       "        [[1., 6.],\n",
       "         [4., 2.]],\n",
       " \n",
       "        [[2., 1.],\n",
       "         [9., 2.]],\n",
       " \n",
       "        [[9., 8.],\n",
       "         [5., 3.]]]),\n",
       " array([[[7., 5.],\n",
       "         [1., 3.],\n",
       "         [2., 1.],\n",
       "         [9., 2.]],\n",
       " \n",
       "        [[1., 6.],\n",
       "         [4., 2.],\n",
       "         [9., 8.],\n",
       "         [5., 3.]]]))"
      ]
     },
     "execution_count": 214,
     "metadata": {},
     "output_type": "execute_result"
    }
   ],
   "source": [
    "random_generator = np.random.default_rng()\n",
    "a = np.floor(10 * random_generator.random((2, 2,2)))\n",
    "print(a,b)\n",
    "b = np.floor(10 * random_generator.random((2, 2,2)))\n",
    "np.vstack((a,b)),np.hstack((a,b))"
   ]
  },
  {
   "cell_type": "code",
   "execution_count": 206,
   "metadata": {},
   "outputs": [],
   "source": [
    "a.resize(4,4)"
   ]
  },
  {
   "cell_type": "markdown",
   "metadata": {},
   "source": [
    "For arrays with more than two dimensions,  \n",
    "- hstack stacks along their second axes,  \n",
    "- vstack stacks along their first axes, and \n",
    "- Concatenate allows for an optional arguments giving the number of the axis along which the concatenation should happen."
   ]
  },
  {
   "cell_type": "code",
   "execution_count": 215,
   "metadata": {},
   "outputs": [
    {
     "name": "stdout",
     "output_type": "stream",
     "text": [
      "Insert values along the given axis before the given indices.\n",
      "\n",
      "Parameters\n",
      "----------\n",
      "arr : array_like\n",
      "    Input array.\n",
      "obj : int, slice or sequence of ints\n",
      "    Object that defines the index or indices before which `values` is\n",
      "    inserted.\n",
      "\n",
      "    .. versionadded:: 1.8.0\n",
      "\n",
      "    Support for multiple insertions when `obj` is a single scalar or a\n",
      "    sequence with one element (similar to calling insert multiple\n",
      "    times).\n",
      "values : array_like\n",
      "    Values to insert into `arr`. If the type of `values` is different\n",
      "    from that of `arr`, `values` is converted to the type of `arr`.\n",
      "    `values` should be shaped so that ``arr[...,obj,...] = values``\n",
      "    is legal.\n",
      "axis : int, optional\n",
      "    Axis along which to insert `values`.  If `axis` is None then `arr`\n",
      "    is flattened first.\n",
      "\n",
      "Returns\n",
      "-------\n",
      "out : ndarray\n",
      "    A copy of `arr` with `values` inserted.  Note that `insert`\n",
      "    does not occur in-place: a new array is returned. If\n",
      "    `axis` is None, `out` is a flattened array.\n",
      "\n",
      "See Also\n",
      "--------\n",
      "append : Append elements at the end of an array.\n",
      "concatenate : Join a sequence of arrays along an existing axis.\n",
      "delete : Delete elements from an array.\n",
      "\n",
      "Notes\n",
      "-----\n",
      "Note that for higher dimensional inserts ``obj=0`` behaves very different\n",
      "from ``obj=[0]`` just like ``arr[:,0,:] = values`` is different from\n",
      "``arr[:,[0],:] = values``.\n",
      "\n",
      "Examples\n",
      "--------\n",
      ">>> a = np.array([[1, 1], [2, 2], [3, 3]])\n",
      ">>> a\n",
      "array([[1, 1],\n",
      "       [2, 2],\n",
      "       [3, 3]])\n",
      ">>> np.insert(a, 1, 5)\n",
      "array([1, 5, 1, ..., 2, 3, 3])\n",
      ">>> np.insert(a, 1, 5, axis=1)\n",
      "array([[1, 5, 1],\n",
      "       [2, 5, 2],\n",
      "       [3, 5, 3]])\n",
      "\n",
      "Difference between sequence and scalars:\n",
      "\n",
      ">>> np.insert(a, [1], [[1],[2],[3]], axis=1)\n",
      "array([[1, 1, 1],\n",
      "       [2, 2, 2],\n",
      "       [3, 3, 3]])\n",
      ">>> np.array_equal(np.insert(a, 1, [1, 2, 3], axis=1),\n",
      "...                np.insert(a, [1], [[1],[2],[3]], axis=1))\n",
      "True\n",
      "\n",
      ">>> b = a.flatten()\n",
      ">>> b\n",
      "array([1, 1, 2, 2, 3, 3])\n",
      ">>> np.insert(b, [2, 2], [5, 6])\n",
      "array([1, 1, 5, ..., 2, 3, 3])\n",
      "\n",
      ">>> np.insert(b, slice(2, 4), [5, 6])\n",
      "array([1, 1, 5, ..., 2, 3, 3])\n",
      "\n",
      ">>> np.insert(b, [2, 2], [7.13, False]) # type casting\n",
      "array([1, 1, 7, ..., 2, 3, 3])\n",
      "\n",
      ">>> x = np.arange(8).reshape(2, 4)\n",
      ">>> idx = (1, 3)\n",
      ">>> np.insert(x, idx, 999, axis=1)\n",
      "array([[  0, 999,   1,   2, 999,   3],\n",
      "       [  4, 999,   5,   6, 999,   7]])\n"
     ]
    }
   ],
   "source": [
    "np.info(np.insert)"
   ]
  },
  {
   "cell_type": "code",
   "execution_count": 4,
   "metadata": {},
   "outputs": [
    {
     "name": "stdout",
     "output_type": "stream",
     "text": [
      "0 [] 0\n",
      "0 [] 0\n",
      "0 [2] 2\n",
      "0 [2] 2\n",
      "0 [2, 2] 4\n",
      "0 [2, 2] 4\n",
      "0 [2, 2, 2] 6\n",
      "0 [2, 2, 2] 6\n",
      "0 [2, 2, 2, 2] 8\n",
      "1 [2, 2, 2, 2] 8\n",
      "2 [2, 2, 2, 2] 8\n",
      "3 [2, 2, 2, 2] 8\n"
     ]
    },
    {
     "ename": "IndexError",
     "evalue": "list index out of range",
     "output_type": "error",
     "traceback": [
      "\u001b[1;31m---------------------------------------------------------------------------\u001b[0m",
      "\u001b[1;31mIndexError\u001b[0m                                Traceback (most recent call last)",
      "Cell \u001b[1;32mIn[4], line 28\u001b[0m\n\u001b[0;32m     26\u001b[0m nums \u001b[38;5;241m=\u001b[39m [\u001b[38;5;241m2\u001b[39m,\u001b[38;5;241m2\u001b[39m,\u001b[38;5;241m5\u001b[39m]\n\u001b[0;32m     27\u001b[0m target \u001b[38;5;241m=\u001b[39m \u001b[38;5;241m9\u001b[39m\n\u001b[1;32m---> 28\u001b[0m \u001b[43mcombinationSum\u001b[49m\u001b[43m(\u001b[49m\u001b[43mnums\u001b[49m\u001b[43m,\u001b[49m\u001b[43mtarget\u001b[49m\u001b[43m)\u001b[49m     \n",
      "Cell \u001b[1;32mIn[4], line 23\u001b[0m, in \u001b[0;36mcombinationSum\u001b[1;34m(nums, target)\u001b[0m\n\u001b[0;32m     19\u001b[0m         out\u001b[38;5;241m.\u001b[39mpop()\n\u001b[0;32m     21\u001b[0m     backtrack(inp \u001b[38;5;241m+\u001b[39m \u001b[38;5;241m1\u001b[39m,out,sum_out)\n\u001b[1;32m---> 23\u001b[0m \u001b[43mbacktrack\u001b[49m\u001b[43m(\u001b[49m\u001b[38;5;241;43m0\u001b[39;49m\u001b[43m,\u001b[49m\u001b[43mout\u001b[49m\u001b[43m,\u001b[49m\u001b[38;5;241;43m0\u001b[39;49m\u001b[43m)\u001b[49m\n\u001b[0;32m     24\u001b[0m \u001b[38;5;28;01mreturn\u001b[39;00m ans\n",
      "Cell \u001b[1;32mIn[4], line 18\u001b[0m, in \u001b[0;36mcombinationSum.<locals>.backtrack\u001b[1;34m(inp, out, sum_out)\u001b[0m\n\u001b[0;32m     16\u001b[0m     \u001b[38;5;28mprint\u001b[39m(inp,out,sum_out)\n\u001b[0;32m     17\u001b[0m     out\u001b[38;5;241m.\u001b[39mappend(nums[inp])\n\u001b[1;32m---> 18\u001b[0m     \u001b[43mbacktrack\u001b[49m\u001b[43m(\u001b[49m\u001b[43minp\u001b[49m\u001b[43m,\u001b[49m\u001b[43mout\u001b[49m\u001b[43m,\u001b[49m\u001b[43msum_out\u001b[49m\u001b[43m \u001b[49m\u001b[38;5;241;43m+\u001b[39;49m\u001b[43m \u001b[49m\u001b[43mnums\u001b[49m\u001b[43m[\u001b[49m\u001b[43minp\u001b[49m\u001b[43m]\u001b[49m\u001b[43m)\u001b[49m\n\u001b[0;32m     19\u001b[0m     out\u001b[38;5;241m.\u001b[39mpop()\n\u001b[0;32m     21\u001b[0m backtrack(inp \u001b[38;5;241m+\u001b[39m \u001b[38;5;241m1\u001b[39m,out,sum_out)\n",
      "Cell \u001b[1;32mIn[4], line 18\u001b[0m, in \u001b[0;36mcombinationSum.<locals>.backtrack\u001b[1;34m(inp, out, sum_out)\u001b[0m\n\u001b[0;32m     16\u001b[0m     \u001b[38;5;28mprint\u001b[39m(inp,out,sum_out)\n\u001b[0;32m     17\u001b[0m     out\u001b[38;5;241m.\u001b[39mappend(nums[inp])\n\u001b[1;32m---> 18\u001b[0m     \u001b[43mbacktrack\u001b[49m\u001b[43m(\u001b[49m\u001b[43minp\u001b[49m\u001b[43m,\u001b[49m\u001b[43mout\u001b[49m\u001b[43m,\u001b[49m\u001b[43msum_out\u001b[49m\u001b[43m \u001b[49m\u001b[38;5;241;43m+\u001b[39;49m\u001b[43m \u001b[49m\u001b[43mnums\u001b[49m\u001b[43m[\u001b[49m\u001b[43minp\u001b[49m\u001b[43m]\u001b[49m\u001b[43m)\u001b[49m\n\u001b[0;32m     19\u001b[0m     out\u001b[38;5;241m.\u001b[39mpop()\n\u001b[0;32m     21\u001b[0m backtrack(inp \u001b[38;5;241m+\u001b[39m \u001b[38;5;241m1\u001b[39m,out,sum_out)\n",
      "    \u001b[1;31m[... skipping similar frames: combinationSum.<locals>.backtrack at line 18 (1 times)]\u001b[0m\n",
      "Cell \u001b[1;32mIn[4], line 18\u001b[0m, in \u001b[0;36mcombinationSum.<locals>.backtrack\u001b[1;34m(inp, out, sum_out)\u001b[0m\n\u001b[0;32m     16\u001b[0m     \u001b[38;5;28mprint\u001b[39m(inp,out,sum_out)\n\u001b[0;32m     17\u001b[0m     out\u001b[38;5;241m.\u001b[39mappend(nums[inp])\n\u001b[1;32m---> 18\u001b[0m     \u001b[43mbacktrack\u001b[49m\u001b[43m(\u001b[49m\u001b[43minp\u001b[49m\u001b[43m,\u001b[49m\u001b[43mout\u001b[49m\u001b[43m,\u001b[49m\u001b[43msum_out\u001b[49m\u001b[43m \u001b[49m\u001b[38;5;241;43m+\u001b[39;49m\u001b[43m \u001b[49m\u001b[43mnums\u001b[49m\u001b[43m[\u001b[49m\u001b[43minp\u001b[49m\u001b[43m]\u001b[49m\u001b[43m)\u001b[49m\n\u001b[0;32m     19\u001b[0m     out\u001b[38;5;241m.\u001b[39mpop()\n\u001b[0;32m     21\u001b[0m backtrack(inp \u001b[38;5;241m+\u001b[39m \u001b[38;5;241m1\u001b[39m,out,sum_out)\n",
      "Cell \u001b[1;32mIn[4], line 21\u001b[0m, in \u001b[0;36mcombinationSum.<locals>.backtrack\u001b[1;34m(inp, out, sum_out)\u001b[0m\n\u001b[0;32m     18\u001b[0m     backtrack(inp,out,sum_out \u001b[38;5;241m+\u001b[39m nums[inp])\n\u001b[0;32m     19\u001b[0m     out\u001b[38;5;241m.\u001b[39mpop()\n\u001b[1;32m---> 21\u001b[0m \u001b[43mbacktrack\u001b[49m\u001b[43m(\u001b[49m\u001b[43minp\u001b[49m\u001b[43m \u001b[49m\u001b[38;5;241;43m+\u001b[39;49m\u001b[43m \u001b[49m\u001b[38;5;241;43m1\u001b[39;49m\u001b[43m,\u001b[49m\u001b[43mout\u001b[49m\u001b[43m,\u001b[49m\u001b[43msum_out\u001b[49m\u001b[43m)\u001b[49m\n",
      "Cell \u001b[1;32mIn[4], line 21\u001b[0m, in \u001b[0;36mcombinationSum.<locals>.backtrack\u001b[1;34m(inp, out, sum_out)\u001b[0m\n\u001b[0;32m     18\u001b[0m     backtrack(inp,out,sum_out \u001b[38;5;241m+\u001b[39m nums[inp])\n\u001b[0;32m     19\u001b[0m     out\u001b[38;5;241m.\u001b[39mpop()\n\u001b[1;32m---> 21\u001b[0m \u001b[43mbacktrack\u001b[49m\u001b[43m(\u001b[49m\u001b[43minp\u001b[49m\u001b[43m \u001b[49m\u001b[38;5;241;43m+\u001b[39;49m\u001b[43m \u001b[49m\u001b[38;5;241;43m1\u001b[39;49m\u001b[43m,\u001b[49m\u001b[43mout\u001b[49m\u001b[43m,\u001b[49m\u001b[43msum_out\u001b[49m\u001b[43m)\u001b[49m\n",
      "Cell \u001b[1;32mIn[4], line 21\u001b[0m, in \u001b[0;36mcombinationSum.<locals>.backtrack\u001b[1;34m(inp, out, sum_out)\u001b[0m\n\u001b[0;32m     18\u001b[0m     backtrack(inp,out,sum_out \u001b[38;5;241m+\u001b[39m nums[inp])\n\u001b[0;32m     19\u001b[0m     out\u001b[38;5;241m.\u001b[39mpop()\n\u001b[1;32m---> 21\u001b[0m \u001b[43mbacktrack\u001b[49m\u001b[43m(\u001b[49m\u001b[43minp\u001b[49m\u001b[43m \u001b[49m\u001b[38;5;241;43m+\u001b[39;49m\u001b[43m \u001b[49m\u001b[38;5;241;43m1\u001b[39;49m\u001b[43m,\u001b[49m\u001b[43mout\u001b[49m\u001b[43m,\u001b[49m\u001b[43msum_out\u001b[49m\u001b[43m)\u001b[49m\n",
      "Cell \u001b[1;32mIn[4], line 15\u001b[0m, in \u001b[0;36mcombinationSum.<locals>.backtrack\u001b[1;34m(inp, out, sum_out)\u001b[0m\n\u001b[0;32m     12\u001b[0m     \u001b[38;5;28mprint\u001b[39m(\u001b[38;5;124m\"\u001b[39m\u001b[38;5;124myay\u001b[39m\u001b[38;5;124m\"\u001b[39m,inp,out,sum_out,target)\n\u001b[0;32m     13\u001b[0m     \u001b[38;5;28;01mreturn\u001b[39;00m\n\u001b[1;32m---> 15\u001b[0m \u001b[38;5;28;01mif\u001b[39;00m \u001b[43mnums\u001b[49m\u001b[43m[\u001b[49m\u001b[43minp\u001b[49m\u001b[43m]\u001b[49m \u001b[38;5;241m+\u001b[39m sum_out \u001b[38;5;241m<\u001b[39m\u001b[38;5;241m=\u001b[39m target:\n\u001b[0;32m     16\u001b[0m     \u001b[38;5;28mprint\u001b[39m(inp,out,sum_out)\n\u001b[0;32m     17\u001b[0m     out\u001b[38;5;241m.\u001b[39mappend(nums[inp])\n",
      "\u001b[1;31mIndexError\u001b[0m: list index out of range"
     ]
    }
   ],
   "source": [
    "\n",
    "def combinationSum(nums, target):\n",
    "    ans = []\n",
    "    out = []\n",
    "\n",
    "    def backtrack(inp,out,sum_out):\n",
    "        print(inp,out,sum_out)\n",
    "        if sum_out == target:\n",
    "            ans.append(out[:])\n",
    "            return\n",
    "\n",
    "        if target < sum_out:\n",
    "            print(\"yay\",inp,out,sum_out,target)\n",
    "            return\n",
    "\n",
    "        if nums[inp] + sum_out <= target:\n",
    "            print(inp,out,sum_out)\n",
    "            out.append(nums[inp])\n",
    "            backtrack(inp,out,sum_out + nums[inp])\n",
    "            out.pop()\n",
    "\n",
    "        backtrack(inp + 1,out,sum_out)\n",
    "\n",
    "    backtrack(0,out,0)\n",
    "    return ans\n",
    "\n",
    "nums = [2,2,5]\n",
    "target = 9\n",
    "combinationSum(nums,target)"
   ]
  },
  {
   "cell_type": "code",
   "execution_count": 5,
   "metadata": {},
   "outputs": [
    {
     "data": {
      "text/plain": [
       "'iii'"
      ]
     },
     "execution_count": 5,
     "metadata": {},
     "output_type": "execute_result"
    }
   ],
   "source": [
    "3 * 'i'"
   ]
  },
  {
   "cell_type": "code",
   "execution_count": 6,
   "metadata": {},
   "outputs": [
    {
     "data": {
      "text/plain": [
       "4"
      ]
     },
     "execution_count": 6,
     "metadata": {},
     "output_type": "execute_result"
    }
   ],
   "source": [
    "len(str(1111))"
   ]
  },
  {
   "cell_type": "code",
   "execution_count": 13,
   "metadata": {},
   "outputs": [],
   "source": [
    "\n",
    "def numTeams(rating) -> int:\n",
    "    ans = 0\n",
    "    def backtrack(ip,op,team_len,incr_decr):\n",
    "        nonlocal ans\n",
    "        if team_len == 3:\n",
    "            ans += 1\n",
    "            return\n",
    "        if ip == len(rating) or len(rating) - op < 2:\n",
    "            return\n",
    "\n",
    "        if op == -1 or (incr_decr == 1 and rating[ip] > rating[op]) or (incr_decr == 0 and rating[ip] < rating[op]):\n",
    "            backtrack(ip + 1, ip, team_len + 1, incr_decr)\n",
    "\n",
    "        backtrack(ip + 1, op, team_len, incr_decr)\n",
    "\n",
    "        return\n",
    "\n",
    "    backtrack(0,-1,0,1)\n",
    "    backtrack(0,-1,0,0)\n",
    "\n",
    "    return ans\n"
   ]
  },
  {
   "cell_type": "code",
   "execution_count": 15,
   "metadata": {},
   "outputs": [
    {
     "data": {
      "text/plain": [
       "12670965"
      ]
     },
     "execution_count": 15,
     "metadata": {},
     "output_type": "execute_result"
    }
   ],
   "source": [
    "rating = [1414,158,710,2814,965,585,620,52,2327,2390,2018,486,1166,2997,2715,336,2143,283,2705,467,381,2463,3000,703,1096,265,130,100,2194,2484,2501,1673,65,2447,663,2136,2039,2683,2093,2504,495,805,2712,512,85,1353,1520,2189,1274,1038,1829,2235,2127,2422,1569,731,469,2602,946,345,2292,2805,1579,1384,2040,921,1677,1074,814,1243,1537,2993,2596,1557,2034,2719,1185,80,1872,842,1546,1430,1212,2284,12,629,617,1661,1442,2356,1067,2632,753,1774,1848,916,728,1818,841,2804,779,280,2436,1519,1440,2291,760,2205,276,2057,563,822,707,2112,2701,113,263,164,2027,478,1705,1494,2208,1897,2352,2773,866,2725,645,1088,1361,48,2643,369,2038,2398,801,373,485,2916,2963,2467,2713,54,2396,1270,1322,2151,1046,1469,2965,1313,2191,1623,340,1299,714,851,797,2584,1016,649,2800,2911,894,930,2366,1948,2351,2223,1835,67,2512,51,1992,1903,1041,604,2401,943,2991,2367,1699,2097,671,1535,1856,1688,194,2454,2689,2718,2013,1665,2437,1823,242,719,1861,2329,2486,150,1454,2594,2192,2044,742,1629,1931,1127,64,2244,389,1698,2354,1639,2954,2700,1967,97,2174,2679,812,2024,2574,1175,1246,1236,647,1759,844,2005,35,195,1493,43,197,2310,2830,2193,2369,1044,406,1898,2211,1630,745,1297,665,2710,2442,2889,1521,2263,2011,2798,1189,2985,231,1102,2145,941,162,2478,1982,1601,1421,1918,2631,944,1220,1859,2690,219,1398,1604,1183,2121,2086,1068,1251,2111,2020,143,2844,198,1717,2957,2595,2381,1985,2851,2061,1385,1156,696,545,1203,901,1502,254,2187,1367,28,2818,1037,517,2677,134,2854,2423,1,298,2389,2008,2842,1868,302,2152,1562,754,2903,1561,1470,1943,1076,987,1578,2949,1081,2458,608,1882,1485,896,1410,2582,669,256,1913,2046,1965,272,170,1807,2471,1885,1153,1907,331,1524,989,2344,243,1177,2202,1712,1953,1054,1625,1827,2550,112,1459,1226,751,556,1933,1810,2681,2990,1465,631,2958,2824,1248,2864,1254,222,1732,501,2470,2156,687,2765,1260,2311,133,2651,1452,2334,878,2479,1125,746,23,258,1637,2142,1308,2502,1210,686,141,1990,2457,1301,2987,834,2675,1196,2264,1761,2625,2953,1422,729,1293,1172,2489,1233,1239,2724,127,2544,632,1805,2146,422,1143,2951,2564,252,2912,2350,981,1007,1373,1619,2132,172,268,1105,2138,2802,1173,300,1002,664,1320,997,1517,1352,882,2739,2728,2338,1436,446,1492,506,2559,1201,885,1111,1813,514,2424,2070,1039,59,2047,1199,2275,838,1026,1427,2259,2845,717,701,2197,1224,2462,2518,781,1668,2960,1141,1434,1008,2726,1850,1873,1779,2736,764,2238,399,2714,1735,2716,317,1832,1245,228,1474,2838,641,1020,934,2359,239,318,361,2167,1342,2721,798,2532,312,794,2393,782,1473,2915,2979,2343,802,1996,1478,1471,1816,2861,609,1193,1680,2934,2707,2590,858,1666,2099,2410,2857,156,2273,108,672,771,1504,2196,1244,677,2812,1523,534,1169,2461,658,1392,2052,1029,2466,2368,1278,2576,2200,2629,2468,1917,2823,2939,2134,642,2117,1476,1881,2460,484,261,275,1508,2503,2150,1643,2472,2165,1325,1501,1785,790,1375,1180,383,2959,2270,223,1290,148,324,1294,536,2362,2699,1603,2131,567,2635,1505]\n",
    "\n",
    "numTeams(rating)"
   ]
  },
  {
   "cell_type": "code",
   "execution_count": 27,
   "metadata": {},
   "outputs": [
    {
     "name": "stdout",
     "output_type": "stream",
     "text": [
      "0 1 2\n",
      "1 1 2\n",
      "2 1 2\n",
      "3 1 2\n"
     ]
    },
    {
     "ename": "IndexError",
     "evalue": "list index out of range",
     "output_type": "error",
     "traceback": [
      "\u001b[1;31m---------------------------------------------------------------------------\u001b[0m",
      "\u001b[1;31mIndexError\u001b[0m                                Traceback (most recent call last)",
      "Cell \u001b[1;32mIn[27], line 15\u001b[0m\n\u001b[0;32m     13\u001b[0m     \u001b[38;5;28mprint\u001b[39m(l,r, curr_sum)\n\u001b[0;32m     14\u001b[0m     ans \u001b[38;5;241m+\u001b[39m\u001b[38;5;241m=\u001b[39m \u001b[38;5;241m1\u001b[39m\n\u001b[1;32m---> 15\u001b[0m     curr_sum \u001b[38;5;241m-\u001b[39m\u001b[38;5;241m=\u001b[39m \u001b[43mnums\u001b[49m\u001b[43m[\u001b[49m\u001b[43ml\u001b[49m\u001b[43m]\u001b[49m \n\u001b[0;32m     16\u001b[0m     l \u001b[38;5;241m+\u001b[39m\u001b[38;5;241m=\u001b[39m \u001b[38;5;241m1\u001b[39m\n\u001b[0;32m     17\u001b[0m \u001b[38;5;28;01melse\u001b[39;00m:\n",
      "\u001b[1;31mIndexError\u001b[0m: list index out of range"
     ]
    }
   ],
   "source": [
    "nums = [1,1,1]\n",
    "k = 2\n",
    "l,r = 0,0\n",
    "n = len(nums)\n",
    "ans = 0\n",
    "curr_sum = 0\n",
    "while r < n:\n",
    "    # print(l,r)\n",
    "    curr_sum += nums[r]\n",
    "    if curr_sum < k:\n",
    "        r += 1\n",
    "    elif curr_sum == k:\n",
    "        print(l,r, curr_sum)\n",
    "        ans += 1\n",
    "        curr_sum -= nums[l]\n",
    "        l += 1\n",
    "    else:\n",
    "        while l < r and curr_sum > k:\n",
    "            curr_sum -= nums[l]\n",
    "            l += 1\n",
    "\n",
    "print(ans)\n",
    "\n"
   ]
  },
  {
   "cell_type": "code",
   "execution_count": 28,
   "metadata": {},
   "outputs": [
    {
     "ename": "KeyboardInterrupt",
     "evalue": "",
     "output_type": "error",
     "traceback": [
      "\u001b[1;31m---------------------------------------------------------------------------\u001b[0m",
      "\u001b[1;31mKeyboardInterrupt\u001b[0m                         Traceback (most recent call last)",
      "Cell \u001b[1;32mIn[28], line 25\u001b[0m\n\u001b[0;32m     21\u001b[0m         dp[ip][amt] \u001b[38;5;241m=\u001b[39m backtrack(ip \u001b[38;5;241m-\u001b[39m \u001b[38;5;241m1\u001b[39m, amt)\n\u001b[0;32m     23\u001b[0m     \u001b[38;5;28;01mreturn\u001b[39;00m dp[ip][amt]\n\u001b[1;32m---> 25\u001b[0m result \u001b[38;5;241m=\u001b[39m \u001b[43mbacktrack\u001b[49m\u001b[43m(\u001b[49m\u001b[38;5;28;43mlen\u001b[39;49m\u001b[43m(\u001b[49m\u001b[43mcoins\u001b[49m\u001b[43m)\u001b[49m\u001b[43m,\u001b[49m\u001b[43m \u001b[49m\u001b[43mamount\u001b[49m\u001b[43m)\u001b[49m\n\u001b[0;32m     26\u001b[0m \u001b[38;5;28mprint\u001b[39m(result)\n",
      "Cell \u001b[1;32mIn[28], line 19\u001b[0m, in \u001b[0;36mbacktrack\u001b[1;34m(ip, amt)\u001b[0m\n\u001b[0;32m     16\u001b[0m     \u001b[38;5;28;01mreturn\u001b[39;00m amount \u001b[38;5;241m+\u001b[39m \u001b[38;5;241m1\u001b[39m\n\u001b[0;32m     18\u001b[0m \u001b[38;5;28;01mif\u001b[39;00m coins[ip \u001b[38;5;241m-\u001b[39m \u001b[38;5;241m1\u001b[39m] \u001b[38;5;241m<\u001b[39m\u001b[38;5;241m=\u001b[39m amt:\n\u001b[1;32m---> 19\u001b[0m     dp[ip][amt] \u001b[38;5;241m=\u001b[39m \u001b[38;5;28mmin\u001b[39m(\u001b[43mbacktrack\u001b[49m\u001b[43m(\u001b[49m\u001b[43mip\u001b[49m\u001b[43m \u001b[49m\u001b[38;5;241;43m-\u001b[39;49m\u001b[43m \u001b[49m\u001b[38;5;241;43m1\u001b[39;49m\u001b[43m,\u001b[49m\u001b[43m \u001b[49m\u001b[43mamt\u001b[49m\u001b[43m)\u001b[49m, \u001b[38;5;241m1\u001b[39m \u001b[38;5;241m+\u001b[39m backtrack(ip, amt \u001b[38;5;241m-\u001b[39m coins[ip \u001b[38;5;241m-\u001b[39m \u001b[38;5;241m1\u001b[39m]))\n\u001b[0;32m     20\u001b[0m \u001b[38;5;28;01melse\u001b[39;00m:\n\u001b[0;32m     21\u001b[0m     dp[ip][amt] \u001b[38;5;241m=\u001b[39m backtrack(ip \u001b[38;5;241m-\u001b[39m \u001b[38;5;241m1\u001b[39m, amt)\n",
      "Cell \u001b[1;32mIn[28], line 19\u001b[0m, in \u001b[0;36mbacktrack\u001b[1;34m(ip, amt)\u001b[0m\n\u001b[0;32m     16\u001b[0m     \u001b[38;5;28;01mreturn\u001b[39;00m amount \u001b[38;5;241m+\u001b[39m \u001b[38;5;241m1\u001b[39m\n\u001b[0;32m     18\u001b[0m \u001b[38;5;28;01mif\u001b[39;00m coins[ip \u001b[38;5;241m-\u001b[39m \u001b[38;5;241m1\u001b[39m] \u001b[38;5;241m<\u001b[39m\u001b[38;5;241m=\u001b[39m amt:\n\u001b[1;32m---> 19\u001b[0m     dp[ip][amt] \u001b[38;5;241m=\u001b[39m \u001b[38;5;28mmin\u001b[39m(\u001b[43mbacktrack\u001b[49m\u001b[43m(\u001b[49m\u001b[43mip\u001b[49m\u001b[43m \u001b[49m\u001b[38;5;241;43m-\u001b[39;49m\u001b[43m \u001b[49m\u001b[38;5;241;43m1\u001b[39;49m\u001b[43m,\u001b[49m\u001b[43m \u001b[49m\u001b[43mamt\u001b[49m\u001b[43m)\u001b[49m, \u001b[38;5;241m1\u001b[39m \u001b[38;5;241m+\u001b[39m backtrack(ip, amt \u001b[38;5;241m-\u001b[39m coins[ip \u001b[38;5;241m-\u001b[39m \u001b[38;5;241m1\u001b[39m]))\n\u001b[0;32m     20\u001b[0m \u001b[38;5;28;01melse\u001b[39;00m:\n\u001b[0;32m     21\u001b[0m     dp[ip][amt] \u001b[38;5;241m=\u001b[39m backtrack(ip \u001b[38;5;241m-\u001b[39m \u001b[38;5;241m1\u001b[39m, amt)\n",
      "    \u001b[1;31m[... skipping similar frames: backtrack at line 19 (32 times)]\u001b[0m\n",
      "Cell \u001b[1;32mIn[28], line 19\u001b[0m, in \u001b[0;36mbacktrack\u001b[1;34m(ip, amt)\u001b[0m\n\u001b[0;32m     16\u001b[0m     \u001b[38;5;28;01mreturn\u001b[39;00m amount \u001b[38;5;241m+\u001b[39m \u001b[38;5;241m1\u001b[39m\n\u001b[0;32m     18\u001b[0m \u001b[38;5;28;01mif\u001b[39;00m coins[ip \u001b[38;5;241m-\u001b[39m \u001b[38;5;241m1\u001b[39m] \u001b[38;5;241m<\u001b[39m\u001b[38;5;241m=\u001b[39m amt:\n\u001b[1;32m---> 19\u001b[0m     dp[ip][amt] \u001b[38;5;241m=\u001b[39m \u001b[38;5;28mmin\u001b[39m(backtrack(ip \u001b[38;5;241m-\u001b[39m \u001b[38;5;241m1\u001b[39m, amt), \u001b[38;5;241m1\u001b[39m \u001b[38;5;241m+\u001b[39m \u001b[43mbacktrack\u001b[49m\u001b[43m(\u001b[49m\u001b[43mip\u001b[49m\u001b[43m,\u001b[49m\u001b[43m \u001b[49m\u001b[43mamt\u001b[49m\u001b[43m \u001b[49m\u001b[38;5;241;43m-\u001b[39;49m\u001b[43m \u001b[49m\u001b[43mcoins\u001b[49m\u001b[43m[\u001b[49m\u001b[43mip\u001b[49m\u001b[43m \u001b[49m\u001b[38;5;241;43m-\u001b[39;49m\u001b[43m \u001b[49m\u001b[38;5;241;43m1\u001b[39;49m\u001b[43m]\u001b[49m\u001b[43m)\u001b[49m)\n\u001b[0;32m     20\u001b[0m \u001b[38;5;28;01melse\u001b[39;00m:\n\u001b[0;32m     21\u001b[0m     dp[ip][amt] \u001b[38;5;241m=\u001b[39m backtrack(ip \u001b[38;5;241m-\u001b[39m \u001b[38;5;241m1\u001b[39m, amt)\n",
      "Cell \u001b[1;32mIn[28], line 9\u001b[0m, in \u001b[0;36mbacktrack\u001b[1;34m(ip, amt)\u001b[0m\n\u001b[0;32m      6\u001b[0m \u001b[38;5;28;01mfor\u001b[39;00m i \u001b[38;5;129;01min\u001b[39;00m \u001b[38;5;28mrange\u001b[39m(\u001b[38;5;28mlen\u001b[39m(coins)):\n\u001b[0;32m      7\u001b[0m     dp[i][\u001b[38;5;241m0\u001b[39m] \u001b[38;5;241m=\u001b[39m \u001b[38;5;241m0\u001b[39m\n\u001b[1;32m----> 9\u001b[0m \u001b[38;5;28;01mdef\u001b[39;00m \u001b[38;5;21mbacktrack\u001b[39m(ip, amt):\n\u001b[0;32m     10\u001b[0m     \u001b[38;5;28;01mif\u001b[39;00m dp[ip][amt] \u001b[38;5;241m!=\u001b[39m amount \u001b[38;5;241m+\u001b[39m \u001b[38;5;241m1\u001b[39m:\n\u001b[0;32m     11\u001b[0m         \u001b[38;5;28;01mreturn\u001b[39;00m dp[ip][amt]\n",
      "\u001b[1;31mKeyboardInterrupt\u001b[0m: "
     ]
    }
   ],
   "source": [
    "coins = [411,412,413,414,415,416,417,418,419,420,421,422]\n",
    "amount = 9864\n",
    "\n",
    "dp = [[amount + 1 for _ in range(amount + 1)] for _ in range(len(coins) + 1)]\n",
    "\n",
    "for i in range(len(coins)):\n",
    "    dp[i][0] = 0\n",
    "\n",
    "def backtrack(ip, amt):\n",
    "    if dp[ip][amt] != amount + 1:\n",
    "        return dp[ip][amt]\n",
    "\n",
    "    # if amt == 0:\n",
    "    #     return 0\n",
    "    if ip < 0:\n",
    "        return amount + 1\n",
    "\n",
    "    if coins[ip - 1] <= amt:\n",
    "        dp[ip][amt] = min(backtrack(ip - 1, amt), 1 + backtrack(ip, amt - coins[ip - 1]))\n",
    "    else:\n",
    "        dp[ip][amt] = backtrack(ip - 1, amt)\n",
    "\n",
    "    return dp[ip][amt]\n",
    "\n",
    "result = backtrack(len(coins), amount)\n",
    "print(result)\n"
   ]
  },
  {
   "cell_type": "code",
   "execution_count": 30,
   "metadata": {},
   "outputs": [
    {
     "data": {
      "text/plain": [
       "3"
      ]
     },
     "execution_count": 30,
     "metadata": {},
     "output_type": "execute_result"
    }
   ],
   "source": [
    "def numberOfDays(weights, capacity):\n",
    "    cum_weight = 0\n",
    "    days = 0\n",
    "    for w in weights:\n",
    "        cum_weight += w\n",
    "        if cum_weight > capacity:\n",
    "            days += 1\n",
    "            cum_weight = w\n",
    "    if cum_weight > 0:\n",
    "        days += 1\n",
    "    return days\n",
    "\n",
    "weights = [1,2,3,1,1]\n",
    "capacity = 3\n",
    "numberOfDays(weights, capacity)"
   ]
  },
  {
   "cell_type": "code",
   "execution_count": 15,
   "metadata": {},
   "outputs": [
    {
     "name": "stdout",
     "output_type": "stream",
     "text": [
      "[0, 1, 3, 7] [0, 2, 5]\n",
      "[7, 3, 1, 0, 2, 5]\n"
     ]
    }
   ],
   "source": [
    "import sys\n",
    "import math\n",
    "\n",
    "# structure of a node of binary tree\n",
    "class Node:\n",
    "    def __init__(self,data):\n",
    "        self.val = data\n",
    "        self.left = None\n",
    "        self.right = None\n",
    "\n",
    "# Helper function that allocates a new node with the\n",
    "#given data and NULL left and right pointers.\n",
    "def getNode(data):\n",
    "        return Node(data)\n",
    "\n",
    "def getPath(root, path, target):\n",
    "     if not root:\n",
    "          return False\n",
    "     if root.val == target:\n",
    "          return path\n",
    "     path.append(root.val)\n",
    "     left = getPath(root.left, path, target)\n",
    "     if left:\n",
    "          return left\n",
    "     right = getPath(root.right, path, target)\n",
    "     if right:\n",
    "          return right\n",
    "     path.pop()\n",
    "     return False\n",
    "\n",
    "def printPaths(path1, path2):\n",
    "     flag = False\n",
    "     if len(path1) > len(path2):\n",
    "          path1, path2 = path2, path1\n",
    "          flag = True\n",
    "     n1 = len(path1)\n",
    "     n2 = len(path2)\n",
    "\n",
    "     j = 0\n",
    "     k = 0\n",
    "     while j < n1 and j < n2:\n",
    "          if path1[j] != path2[j]:\n",
    "               k = j - 1\n",
    "               break\n",
    "          else:\n",
    "               j += 1\n",
    "\n",
    "     return path1[k:][::-1] + path2[k + 1:] if not flag else path2[k:][::-1] + path1[k + 1:]\n",
    "if __name__=='__main__':\n",
    "\n",
    "    # binary tree formation\n",
    "    root = getNode(0)\n",
    "    root.left = getNode(1)\n",
    "    root.left.left = getNode(3)\n",
    "    root.left.left.left = getNode(7)\n",
    "    root.left.right = getNode(4)\n",
    "    root.left.right.left = getNode(8)\n",
    "    root.left.right.right = getNode(9)\n",
    "    root.right = getNode(2)\n",
    "    root.right.left = getNode(5)\n",
    "    root.right.right = getNode(6)\n",
    "    node1=7\n",
    "    node2=5\n",
    "    path1 = getPath(root,[],node1)\n",
    "    path1.append(node1)\n",
    "    path2 = getPath(root,[], node2)\n",
    "    path2.append(node2)\n",
    "    print(path1, path2)\n",
    "    print(printPaths(path1, path2))\n"
   ]
  },
  {
   "cell_type": "code",
   "execution_count": 6,
   "metadata": {},
   "outputs": [
    {
     "name": "stdout",
     "output_type": "stream",
     "text": [
      "[[0, 1, 2, 3, 4, 5, 6, 7, 8, 9, 10, 11, 12, 13, 14, 15, 16, 17, 18, 19], [1, 0, 1, 2, 3, 4, 5, 6, 7, 8, 9, 10, 11, 12, 13, 14, 15, 16, 17, 18], [2, 1, 0, 1, 2, 3, 4, 5, 6, 7, 8, 9, 10, 11, 12, 13, 14, 15, 16, 17], [3, 2, 1, 0, 1, 2, 3, 4, 5, 6, 7, 8, 9, 10, 11, 12, 13, 14, 15, 16], [4, 3, 2, 1, 0, 1, 2, 3, 4, 5, 6, 7, 8, 9, 10, 11, 12, 13, 14, 15], [5, 4, 3, 2, 1, 0, 1, 2, 3, 4, 5, 6, 7, 8, 9, 10, 11, 12, 13, 14], [6, 5, 4, 3, 2, 1, 0, 1, 2, 3, 4, 5, 6, 7, 8, 9, 10, 11, 12, 13], [7, 6, 5, 4, 3, 2, 1, 0, 1, 2, 3, 4, 5, 6, 7, 8, 9, 10, 11, 12], [8, 7, 6, 5, 4, 3, 2, 1, 0, 1, 2, 3, 4, 5, 6, 7, 8, 9, 10, 11], [9, 8, 7, 6, 5, 4, 3, 2, 1, 0, 1, 2, 3, 4, 5, 6, 7, 8, 9, 10], [10, 9, 8, 7, 6, 5, 4, 3, 2, 1, 0, 1, 2, 3, 4, 5, 6, 7, 8, 9], [11, 10, 9, 8, 7, 6, 5, 4, 3, 2, 1, 0, 1, 2, 3, 4, 5, 6, 7, 8], [12, 11, 10, 9, 8, 7, 6, 5, 4, 3, 2, 1, 0, 1, 2, 3, 4, 5, 6, 7], [13, 12, 11, 10, 9, 8, 7, 6, 5, 4, 3, 2, 1, 0, 1, 2, 3, 4, 5, 6], [14, 13, 12, 11, 10, 9, 8, 7, 6, 5, 4, 3, 2, 1, 0, 1, 2, 3, 4, 5], [15, 14, 13, 12, 11, 10, 9, 8, 7, 6, 5, 4, 3, 2, 1, 0, 1, 2, 3, 4], [16, 15, 14, 13, 12, 11, 10, 9, 8, 7, 6, 5, 4, 3, 2, 1, 0, 1, 2, 3], [17, 16, 15, 14, 13, 12, 11, 10, 9, 8, 7, 6, 5, 4, 3, 2, 1, 0, 1, 2], [18, 17, 16, 15, 14, 13, 12, 11, 10, 9, 8, 7, 6, 5, 4, 3, 2, 1, 0, 1], [19, 18, 17, 16, 15, 14, 13, 12, 11, 10, 9, 8, 7, 6, 5, 4, 3, 2, 1, 0]]\n"
     ]
    }
   ],
   "source": [
    "from collections import deque\n",
    "class Solution:\n",
    "    def wallsAndGates(self, rooms) -> None:\n",
    "        \"\"\"\n",
    "        Do not return anything, modify rooms in-place instead.\n",
    "        \"\"\"\n",
    "        r,c = len(rooms), len(rooms[0])\n",
    "        k = 2 ** 31 - 1\n",
    "        que = deque()\n",
    "\n",
    "        for i in range(r):\n",
    "            for j in range(c):\n",
    "                if rooms[i][j] == 0:\n",
    "                    que.append((i, j))\n",
    "\n",
    "        directions = [(1,0),(-1,0),(0,1),(0,-1),]\n",
    "        while que:\n",
    "            i, j = que.popleft()\n",
    "            for direction in directions:\n",
    "                x, y = i + direction[0], j + direction[1]\n",
    "                if x < 0 or x >= r or y < 0 or y >= c or rooms[x][y] != k:\n",
    "                    continue\n",
    "\n",
    "                rooms[x][y] = rooms[i][j] + 1\n",
    "                que.append((x, y))\n",
    "\n",
    "board = [[0,2147483647,2147483647,2147483647,2147483647,2147483647,2147483647,2147483647,2147483647,2147483647,2147483647,2147483647,2147483647,2147483647,2147483647,2147483647,2147483647,2147483647,2147483647,2147483647],\n",
    "         [2147483647,0,2147483647,2147483647,2147483647,2147483647,2147483647,2147483647,2147483647,2147483647,2147483647,2147483647,2147483647,2147483647,2147483647,2147483647,2147483647,2147483647,2147483647,2147483647],\n",
    "         [2147483647,2147483647,0,2147483647,2147483647,2147483647,2147483647,2147483647,2147483647,2147483647,2147483647,2147483647,2147483647,2147483647,2147483647,2147483647,2147483647,2147483647,2147483647,2147483647],[2147483647,2147483647,2147483647,0,2147483647,2147483647,2147483647,2147483647,2147483647,2147483647,2147483647,2147483647,2147483647,2147483647,2147483647,2147483647,2147483647,2147483647,2147483647,2147483647],[2147483647,2147483647,2147483647,2147483647,0,2147483647,2147483647,2147483647,2147483647,2147483647,2147483647,2147483647,2147483647,2147483647,2147483647,2147483647,2147483647,2147483647,2147483647,2147483647],[2147483647,2147483647,2147483647,2147483647,2147483647,0,2147483647,2147483647,2147483647,2147483647,2147483647,2147483647,2147483647,2147483647,2147483647,2147483647,2147483647,2147483647,2147483647,2147483647],[2147483647,2147483647,2147483647,2147483647,2147483647,2147483647,0,2147483647,2147483647,2147483647,2147483647,2147483647,2147483647,2147483647,2147483647,2147483647,2147483647,2147483647,2147483647,2147483647],[2147483647,2147483647,2147483647,2147483647,2147483647,2147483647,2147483647,0,2147483647,2147483647,2147483647,2147483647,2147483647,2147483647,2147483647,2147483647,2147483647,2147483647,2147483647,2147483647],[2147483647,2147483647,2147483647,2147483647,2147483647,2147483647,2147483647,2147483647,0,2147483647,2147483647,2147483647,2147483647,2147483647,2147483647,2147483647,2147483647,2147483647,2147483647,2147483647],[2147483647,2147483647,2147483647,2147483647,2147483647,2147483647,2147483647,2147483647,2147483647,0,2147483647,2147483647,2147483647,2147483647,2147483647,2147483647,2147483647,2147483647,2147483647,2147483647],[2147483647,2147483647,2147483647,2147483647,2147483647,2147483647,2147483647,2147483647,2147483647,2147483647,0,2147483647,2147483647,2147483647,2147483647,2147483647,2147483647,2147483647,2147483647,2147483647],[2147483647,2147483647,2147483647,2147483647,2147483647,2147483647,2147483647,2147483647,2147483647,2147483647,2147483647,0,2147483647,2147483647,2147483647,2147483647,2147483647,2147483647,2147483647,2147483647],[2147483647,2147483647,2147483647,2147483647,2147483647,2147483647,2147483647,2147483647,2147483647,2147483647,2147483647,2147483647,0,2147483647,2147483647,2147483647,2147483647,2147483647,2147483647,2147483647],[2147483647,2147483647,2147483647,2147483647,2147483647,2147483647,2147483647,2147483647,2147483647,2147483647,2147483647,2147483647,2147483647,0,2147483647,2147483647,2147483647,2147483647,2147483647,2147483647],[2147483647,2147483647,2147483647,2147483647,2147483647,2147483647,2147483647,2147483647,2147483647,2147483647,2147483647,2147483647,2147483647,2147483647,0,2147483647,2147483647,2147483647,2147483647,2147483647],[2147483647,2147483647,2147483647,2147483647,2147483647,2147483647,2147483647,2147483647,2147483647,2147483647,2147483647,2147483647,2147483647,2147483647,2147483647,0,2147483647,2147483647,2147483647,2147483647],[2147483647,2147483647,2147483647,2147483647,2147483647,2147483647,2147483647,2147483647,2147483647,2147483647,2147483647,2147483647,2147483647,2147483647,2147483647,2147483647,0,2147483647,2147483647,2147483647],[2147483647,2147483647,2147483647,2147483647,2147483647,2147483647,2147483647,2147483647,2147483647,2147483647,2147483647,2147483647,2147483647,2147483647,2147483647,2147483647,2147483647,0,2147483647,2147483647],[2147483647,2147483647,2147483647,2147483647,2147483647,2147483647,2147483647,2147483647,2147483647,2147483647,2147483647,2147483647,2147483647,2147483647,2147483647,2147483647,2147483647,2147483647,0,2147483647],[2147483647,2147483647,2147483647,2147483647,2147483647,2147483647,2147483647,2147483647,2147483647,2147483647,2147483647,2147483647,2147483647,2147483647,2147483647,2147483647,2147483647,2147483647,2147483647,0]]\n",
    "\n",
    "a = Solution().wallsAndGates(board)\n",
    "print(board)\n"
   ]
  },
  {
   "cell_type": "code",
   "execution_count": 7,
   "metadata": {},
   "outputs": [
    {
     "name": "stdout",
     "output_type": "stream",
     "text": [
      "True\n"
     ]
    }
   ],
   "source": [
    "b = [[0,1,2,3,4,5,6,7,8,9,10,11,12,13,14,15,16,17,18,19],[1,0,1,2,3,4,5,6,7,8,9,10,11,12,13,14,15,16,17,18],[2,1,0,1,2,3,4,5,6,7,8,9,10,11,12,13,14,15,16,17],[3,2,1,0,1,2,3,4,5,6,7,8,9,10,11,12,13,14,15,16],[4,3,2,1,0,1,2,3,4,5,6,7,8,9,10,11,12,13,14,15],[5,4,3,2,1,0,1,2,3,4,5,6,7,8,9,10,11,12,13,14],[6,5,4,3,2,1,0,1,2,3,4,5,6,7,8,9,10,11,12,13],[7,6,5,4,3,2,1,0,1,2,3,4,5,6,7,8,9,10,11,12],[8,7,6,5,4,3,2,1,0,1,2,3,4,5,6,7,8,9,10,11],[9,8,7,6,5,4,3,2,1,0,1,2,3,4,5,6,7,8,9,10],[10,9,8,7,6,5,4,3,2,1,0,1,2,3,4,5,6,7,8,9],[11,10,9,8,7,6,5,4,3,2,1,0,1,2,3,4,5,6,7,8],[12,11,10,9,8,7,6,5,4,3,2,1,0,1,2,3,4,5,6,7],[13,12,11,10,9,8,7,6,5,4,3,2,1,0,1,2,3,4,5,6],[14,13,12,11,10,9,8,7,6,5,4,3,2,1,0,1,2,3,4,5],[15,14,13,12,11,10,9,8,7,6,5,4,3,2,1,0,1,2,3,4],[16,15,14,13,12,11,10,9,8,7,6,5,4,3,2,1,0,1,2,3],[17,16,15,14,13,12,11,10,9,8,7,6,5,4,3,2,1,0,1,2],[18,17,16,15,14,13,12,11,10,9,8,7,6,5,4,3,2,1,0,1],[19,18,17,16,15,14,13,12,11,10,9,8,7,6,5,4,3,2,1,0]]\n",
    "print(board == b)"
   ]
  },
  {
   "cell_type": "code",
   "execution_count": 4,
   "metadata": {},
   "outputs": [
    {
     "name": "stdout",
     "output_type": "stream",
     "text": [
      "<__main__.UnionSet object at 0x000001987EC4AFC0>\n"
     ]
    }
   ],
   "source": [
    "class UnionSet:\n",
    "    def __init__(self, val):\n",
    "        self.parent = self  # Initially, a node is its own parent\n",
    "        self.rank = 0\n",
    "\n",
    "    def findParent(self, node):\n",
    "        if node.parent != node:\n",
    "            node.parent = self.findParent(node.parent)  # Path compression\n",
    "        return node.parent\n",
    "\n",
    "    def union(self, node1, node2):\n",
    "        n1 = self.findParent(node1)\n",
    "        n2 = self.findParent(node2)\n",
    "        if n1 == n2:\n",
    "            return False\n",
    "        self.link(n1, n2)\n",
    "        return True\n",
    "\n",
    "    def link(self, node1, node2):\n",
    "        if node1.rank > node2.rank:\n",
    "            node2.parent = node1\n",
    "        else:\n",
    "            node1.parent = node2\n",
    "            if node1.rank == node2.rank:\n",
    "                node2.rank += 1\n",
    "\n",
    "# Example usage\n",
    "nodeA = UnionSet('A')\n",
    "nodeB = UnionSet('B')\n",
    "nodeC = UnionSet('C')\n",
    "node = UnionSet('A')\n",
    "# Union operations\n",
    "nodeA.union(nodeA, nodeB)  # Union A and B\n",
    "nodeA.union(nodeB, nodeC)  # Union B and C\n",
    "nodeA.union(node, nodeC)\n",
    "nodeA.union(node, nodeC)\n",
    "print(nodeA)"
   ]
  },
  {
   "cell_type": "code",
   "execution_count": 20,
   "metadata": {},
   "outputs": [
    {
     "name": "stdout",
     "output_type": "stream",
     "text": [
      "[[0, 0, 0, 0, 0, 0], [0, 1, 1.5, 2, 2.5, 3], [0, 0, 3, 4.5, 6, 7.5], [0, 0, 0, 6, 8.5, 11]]\n"
     ]
    },
    {
     "data": {
      "text/plain": [
       "11"
      ]
     },
     "execution_count": 20,
     "metadata": {},
     "output_type": "execute_result"
    }
   ],
   "source": [
    "def findMaximumQuality(packets, channels):\n",
    "    packets.sort()\n",
    "    n = len(packets)\n",
    "    if n == channels:\n",
    "        return sum(packets)\n",
    "\n",
    "    dp = [[0 for j in range(n + 1)] for i in range(channels + 1)]\n",
    "\n",
    "    for i in range(n):\n",
    "        if  i % 2 == 0:\n",
    "            dp[1][i + 1] = packets[i//2]\n",
    "        else:\n",
    "            dp[1][i + 1] = (packets[i//2] + packets[(i//2) + 1])/2\n",
    "\n",
    "    for i in range(2, channels + 1):\n",
    "        for j in range(i, n + 1):\n",
    "            dp[i][j] = dp[i-1][j-1] + packets[j - 1]\n",
    "    print(dp)\n",
    "    # TC O(nc + n log n)),  SC O(nc)\n",
    "    return dp[channels][n]\n",
    "\n",
    "packets = [1,2,5,4,3]\n",
    "channels = 3\n",
    "findMaximumQuality(packets, channels)\n"
   ]
  },
  {
   "cell_type": "code",
   "execution_count": 62,
   "metadata": {},
   "outputs": [
    {
     "data": {
      "text/plain": [
       "4"
      ]
     },
     "execution_count": 62,
     "metadata": {},
     "output_type": "execute_result"
    }
   ],
   "source": [
    "def getMaxConsecutiveON(server_states: str, k: int) -> int:\n",
    "\n",
    "    n = len(server_states)\n",
    "    if n <= k:\n",
    "        return n\n",
    "\n",
    "    index = [0]\n",
    "    for i in range(1, n):\n",
    "        if server_states[i] != server_states[i - 1]:\n",
    "            index.append(i)\n",
    "    index.append(n)\n",
    "\n",
    "    l = 0\n",
    "    window = 0\n",
    "    ans = 0\n",
    "    for r in range(len(index)- 1):\n",
    "        if server_states[index[r]] == '0':\n",
    "            window += 1\n",
    "        while window > k:\n",
    "            if server_states[index[l]] == '0':\n",
    "                window -= 1\n",
    "            l += 1\n",
    "        ans = max(ans, index[r + 1] - index[l])\n",
    "    return ans\n",
    "\n",
    "server_states, k = \"00010\", 1 # \"11101010110011\", 1\n",
    "getMaxConsecutiveON(server_states, k)\n",
    "\n"
   ]
  },
  {
   "cell_type": "code",
   "execution_count": 1,
   "metadata": {},
   "outputs": [
    {
     "name": "stdout",
     "output_type": "stream",
     "text": [
      "1\n",
      "2\n",
      "3\n",
      "4\n",
      "5\n"
     ]
    }
   ],
   "source": [
    "def DFS_recursive_disconnected(graph):\n",
    "    def DFS_recursive(node, visited):\n",
    "        visited.add(node)\n",
    "        print(node)  # or process the node in some way\n",
    "        \n",
    "        for neighbor in graph[node]:\n",
    "            if neighbor not in visited:\n",
    "                DFS_recursive(neighbor, visited)\n",
    "    \n",
    "    visited = set()\n",
    "    \n",
    "    for node in graph:\n",
    "        if node not in visited:\n",
    "            DFS_recursive(node, visited)\n",
    "\n",
    "# Example usage\n",
    "graph = {\n",
    "    1: [],\n",
    "    2: [3, 4, 1],\n",
    "    3: [],\n",
    "    4: [],\n",
    "    5: [4]\n",
    "}\n",
    "\n",
    "DFS_recursive_disconnected(graph)\n"
   ]
  },
  {
   "cell_type": "code",
   "execution_count": 3,
   "metadata": {},
   "outputs": [
    {
     "name": "stdout",
     "output_type": "stream",
     "text": [
      "Number of strongly connected components: 5\n"
     ]
    }
   ],
   "source": [
    "def kosaraju_scc(graph):\n",
    "    def dfs(node, visited, stack):\n",
    "        visited.add(node)\n",
    "        for neighbor in graph[node]:\n",
    "            if neighbor not in visited:\n",
    "                dfs(neighbor, visited, stack)\n",
    "        stack.append(node)\n",
    "\n",
    "    def dfs_transposed(node, visited, transposed_graph):\n",
    "        visited.add(node)\n",
    "        for neighbor in transposed_graph[node]:\n",
    "            if neighbor not in visited:\n",
    "                dfs_transposed(neighbor, visited, transposed_graph)\n",
    "\n",
    "    # Step 1: Perform DFS on the original graph to get the finish times\n",
    "    visited = set()\n",
    "    stack = []\n",
    "    for node in graph:\n",
    "        if node not in visited:\n",
    "            dfs(node, visited, stack)\n",
    "\n",
    "    # Step 2: Transpose the graph\n",
    "    transposed_graph = {node: [] for node in graph}\n",
    "    for node in graph:\n",
    "        for neighbor in graph[node]:\n",
    "            transposed_graph[neighbor].append(node)\n",
    "\n",
    "    # Step 3: Perform DFS on the transposed graph in the order of decreasing finish times\n",
    "    visited.clear()\n",
    "    scc_count = 0\n",
    "    while stack:\n",
    "        node = stack.pop()\n",
    "        if node not in visited:\n",
    "            dfs_transposed(node, visited, transposed_graph)\n",
    "            scc_count += 1\n",
    "\n",
    "    return scc_count\n",
    "\n",
    "# Example usage\n",
    "graph = {\n",
    "    1: [],\n",
    "    2: [3, 4, 1],\n",
    "    3: [],\n",
    "    4: [],\n",
    "    5: [4]\n",
    "}\n",
    "\n",
    "print(\"Number of strongly connected components:\", kosaraju_scc(graph))\n"
   ]
  },
  {
   "cell_type": "code",
   "execution_count": null,
   "metadata": {},
   "outputs": [],
   "source": [
    "from PyPDF2 import PdfReader\n",
    "import pandas as pd\n",
    "\n",
    "# Path to your PDF file\n",
    "pdf_path = r\"C:\\Users\\sasan\\Downloads\\dharani master\\dharani master\\DHARANIpage8.pdf\"\n",
    "\n",
    "pdf_reader = PdfReader(pdf_path)\n",
    "\n",
    "# Extract text from the first page\n",
    "page = pdf_reader.pages[0]\n",
    "text = page.extract_text()\n",
    "\n",
    "print(text)\n",
    "# Splitting the extracted text into lines\n",
    "lines = text.split('\\n')\n",
    "\n",
    "# Defining a structure for the data\n",
    "columns = [\"Loan Account No.\", \"Pattadar Passbook No.\", \"Pattadar Name\", \"Father / Husband's Name\", \"Survey No./Sub-Division No.\", \"Extent (Ac.Gts)\", \"Type of Loan\", \"Type of Charge\", \"Loan Amount (in INR)\"]\n",
    "data = []\n",
    "\n",
    "# Process each line to populate the DataFrame\n",
    "for line in lines:\n",
    "    # Adjust splitting logic as necessary based on your specific PDF content\n",
    "    row = line.split()\n",
    "    if len(row) == 9:  # Check if the row has the expected number of columns\n",
    "        data.append(row)\n",
    "\n",
    "print(data)\n",
    "# Create a DataFrame\n",
    "df = pd.DataFrame(data, columns=columns)\n",
    "\n",
    "# Save the DataFrame to Excel\n",
    "excel_path = \"output.xlsx\"\n",
    "df.to_excel(excel_path, index=False)"
   ]
  },
  {
   "cell_type": "code",
   "execution_count": 1,
   "metadata": {},
   "outputs": [
    {
     "name": "stdout",
     "output_type": "stream",
     "text": [
      "Table Number: 1\n",
      "Server: John\n",
      "Items:\n",
      " - Pasta: $12.00\n",
      " - Pizza: $15.00\n",
      "Subtotal: $27.00\n",
      "GST (12.5%): $3.38\n",
      "Total: $27.00\n",
      "\n",
      "Split Bill 1:\n",
      "Table Number: 1\n",
      "Server: John\n",
      "Items:\n",
      " - Pasta: $12.00\n",
      " - Pizza: $15.00\n",
      "Subtotal: $27.00\n",
      "GST (12.5%): $3.38\n",
      "Total: $27.00\n",
      "\n",
      "Split Bill 2:\n",
      "Table Number: 1\n",
      "Server: John\n",
      "Items:\n",
      " - Pasta: $12.00\n",
      " - Pizza: $15.00\n",
      "Subtotal: $27.00\n",
      "GST (12.5%): $3.38\n",
      "Total: $27.00\n"
     ]
    }
   ],
   "source": [
    "class MenuItem:\n",
    "    def __init__(self, name, price):\n",
    "        self.name = name\n",
    "        self.price = price\n",
    "\n",
    "class Bill:\n",
    "    def __init__(self, table_number, server_name):\n",
    "        self.table_number = table_number\n",
    "        self.server_name = server_name\n",
    "        self.items = []\n",
    "        self.gst_rate = 0.125\n",
    "\n",
    "    def add_item(self, item):\n",
    "        self.items.append(item)\n",
    "\n",
    "    def calculate_total(self):\n",
    "        subtotal = sum(item.price for item in self.items)\n",
    "        gst = subtotal * self.gst_rate\n",
    "        total = subtotal\n",
    "        return subtotal, gst, total\n",
    "\n",
    "    def print_bill(self):\n",
    "        print(f\"Table Number: {self.table_number}\")\n",
    "        print(f\"Server: {self.server_name}\")\n",
    "        print(\"Items:\")\n",
    "        for item in self.items:\n",
    "            print(f\" - {item.name}: ${item.price:.2f}\")\n",
    "        subtotal, gst, total = self.calculate_total()\n",
    "        print(f\"Subtotal: ${subtotal:.2f}\")\n",
    "        print(f\"GST (12.5%): ${gst:.2f}\")\n",
    "        print(f\"Total: ${total:.2f}\")\n",
    "\n",
    "class Restaurant:\n",
    "    def __init__(self):\n",
    "        self.menu = []\n",
    "        self.bills = []\n",
    "\n",
    "    def add_menu_item(self, name, price):\n",
    "        self.menu.append(MenuItem(name, price))\n",
    "\n",
    "    def create_bill(self, table_number, server_name):\n",
    "        bill = Bill(table_number, server_name)\n",
    "        self.bills.append(bill)\n",
    "        return bill\n",
    "\n",
    "    def split_bill(self, bill, num_splits):\n",
    "        split_bills = []\n",
    "        for _ in range(num_splits):\n",
    "            split_bills.append(Bill(bill.table_number, bill.server_name))\n",
    "        for item in bill.items:\n",
    "            for split_bill in split_bills:\n",
    "                split_bill.add_item(item)\n",
    "        return split_bills\n",
    "\n",
    "# Example usage\n",
    "restaurant = Restaurant()\n",
    "restaurant.add_menu_item(\"Pasta\", 12.00)\n",
    "restaurant.add_menu_item(\"Pizza\", 15.00)\n",
    "restaurant.add_menu_item(\"Salad\", 8.00)\n",
    "\n",
    "# Create a bill for table 1\n",
    "bill = restaurant.create_bill(1, \"John\")\n",
    "\n",
    "# Add items to the bill\n",
    "bill.add_item(restaurant.menu[0])  # Pasta\n",
    "bill.add_item(restaurant.menu[1])  # Pizza\n",
    "\n",
    "# Print the bill\n",
    "bill.print_bill()\n",
    "\n",
    "# Split the bill into 2\n",
    "split_bills = restaurant.split_bill(bill, 2)\n",
    "for i, split_bill in enumerate(split_bills, 1):\n",
    "    print(f\"\\nSplit Bill {i}:\")\n",
    "    split_bill.print_bill()"
   ]
  },
  {
   "cell_type": "code",
   "execution_count": 2,
   "metadata": {},
   "outputs": [
    {
     "name": "stdout",
     "output_type": "stream",
     "text": [
      "Table Number: 1\n",
      "Server: Alice\n",
      "Items:\n",
      " - Pasta: $12.00\n",
      " - Pizza: $15.00\n",
      "Subtotal: $27.00\n",
      "GST (12.5%): $3.38\n",
      "Total: $30.38\n",
      "\n",
      "Split Bill 1:\n",
      "Table Number: 1\n",
      "Server: Alice\n",
      "Items:\n",
      " - Pasta: $6.00\n",
      " - Pizza: $7.50\n",
      "Subtotal: $13.50\n",
      "GST (12.5%): $1.69\n",
      "Total: $15.19\n",
      "\n",
      "Split Bill 2:\n",
      "Table Number: 1\n",
      "Server: Alice\n",
      "Items:\n",
      " - Pasta: $6.00\n",
      " - Pizza: $7.50\n",
      "Subtotal: $13.50\n",
      "GST (12.5%): $1.69\n",
      "Total: $15.19\n"
     ]
    }
   ],
   "source": [
    "class MenuItem:\n",
    "    def __init__(self, name, price):\n",
    "        self.name = name\n",
    "        self.price = price\n",
    "\n",
    "class Bill:\n",
    "    def __init__(self, table_number, server_name):\n",
    "        self.table_number = table_number\n",
    "        self.server_name = server_name\n",
    "        self.items = []\n",
    "        self.gst_rate = 0.125\n",
    "\n",
    "    def add_item(self, item):\n",
    "        self.items.append(item)\n",
    "\n",
    "    def calculate_total(self):\n",
    "        subtotal = sum(item.price for item in self.items)\n",
    "        gst = subtotal * self.gst_rate\n",
    "        total = subtotal + gst\n",
    "        return subtotal, gst, total\n",
    "\n",
    "    def print_bill(self):\n",
    "        print(f\"Table Number: {self.table_number}\")\n",
    "        print(f\"Server: {self.server_name}\")\n",
    "        print(\"Items:\")\n",
    "        for item in self.items:\n",
    "            print(f\" - {item.name}: ${item.price:.2f}\")\n",
    "        subtotal, gst, total = self.calculate_total()\n",
    "        print(f\"Subtotal: ${subtotal:.2f}\")\n",
    "        print(f\"GST (12.5%): ${gst:.2f}\")\n",
    "        print(f\"Total: ${total:.2f}\")\n",
    "\n",
    "class Restaurant:\n",
    "    def __init__(self):\n",
    "        self.menu = []\n",
    "        self.bills = []\n",
    "\n",
    "    def add_menu_item(self, name, price):\n",
    "        self.menu.append(MenuItem(name, price))\n",
    "\n",
    "    def create_bill(self, table_number, server_name):\n",
    "        bill = Bill(table_number, server_name)\n",
    "        self.bills.append(bill)\n",
    "        return bill\n",
    "\n",
    "    def split_bill(self, bill, num_splits):\n",
    "        split_bills = [Bill(bill.table_number, bill.server_name) for _ in range(num_splits)]\n",
    "        for item in bill.items:\n",
    "            split_price = item.price / num_splits\n",
    "            for split_bill in split_bills:\n",
    "                split_bill.add_item(MenuItem(item.name, split_price))\n",
    "        \n",
    "        return split_bills\n",
    "\n",
    "# Example usage\n",
    "restaurant = Restaurant()\n",
    "restaurant.add_menu_item(\"Pasta\", 12.00)\n",
    "restaurant.add_menu_item(\"Pizza\", 15.00)\n",
    "restaurant.add_menu_item(\"Salad\", 8.00)\n",
    "\n",
    "# Create a bill for table 1\n",
    "bill = restaurant.create_bill(1, \"Alice\")\n",
    "bill.add_item(restaurant.menu[0])  # Pasta\n",
    "bill.add_item(restaurant.menu[1])  # Pizza\n",
    "\n",
    "# Print the bill\n",
    "bill.print_bill()\n",
    "\n",
    "# Split the bill into 2\n",
    "split_bills = restaurant.split_bill(bill, 2)\n",
    "for i, split_bill in enumerate(split_bills, start=1):\n",
    "    print(f\"\\nSplit Bill {i}:\")\n",
    "    split_bill.print_bill()"
   ]
  },
  {
   "cell_type": "code",
   "execution_count": 3,
   "metadata": {},
   "outputs": [
    {
     "name": "stdout",
     "output_type": "stream",
     "text": [
      "1 2 3 4 8 12 16 15 14 13 9 5 6 7 11 10 "
     ]
    }
   ],
   "source": [
    "def print_spiral(matrix):\n",
    "    if not matrix or not matrix[0]:\n",
    "        return\n",
    "\n",
    "    top, bottom = 0, len(matrix) - 1\n",
    "    left, right = 0, len(matrix[0]) - 1\n",
    "\n",
    "    while top <= bottom and left <= right:\n",
    "        # Print the top row\n",
    "        for i in range(left, right + 1):\n",
    "            print(matrix[top][i], end=\" \")\n",
    "        top += 1\n",
    "\n",
    "        # Print the right column\n",
    "        for i in range(top, bottom + 1):\n",
    "            print(matrix[i][right], end=\" \")\n",
    "        right -= 1\n",
    "\n",
    "        if top <= bottom:\n",
    "            # Print the bottom row\n",
    "            for i in range(right, left - 1, -1):\n",
    "                print(matrix[bottom][i], end=\" \")\n",
    "            bottom -= 1\n",
    "\n",
    "        if left <= right:\n",
    "            # Print the left column\n",
    "            for i in range(bottom, top - 1, -1):\n",
    "                print(matrix[i][left], end=\" \")\n",
    "            left += 1\n",
    "\n",
    "# Example usage:\n",
    "matrix = [\n",
    "    [1, 2, 3, 4],\n",
    "    [5, 6, 7, 8],\n",
    "    [9, 10, 11, 12],\n",
    "    [13, 14, 15, 16]\n",
    "]\n",
    "\n",
    "print_spiral(matrix)"
   ]
  },
  {
   "cell_type": "code",
   "execution_count": 4,
   "metadata": {},
   "outputs": [
    {
     "name": "stdout",
     "output_type": "stream",
     "text": [
      "1 2 3 4 8 12 16 11 10 9 9 5 6 7 11 6 "
     ]
    },
    {
     "ename": "",
     "evalue": "",
     "output_type": "error",
     "traceback": [
      "\u001b[1;31mThe Kernel crashed while executing code in the current cell or a previous cell. \n",
      "\u001b[1;31mPlease review the code in the cell(s) to identify a possible cause of the failure. \n",
      "\u001b[1;31mClick <a href='https://aka.ms/vscodeJupyterKernelCrash'>here</a> for more info. \n",
      "\u001b[1;31mView Jupyter <a href='command:jupyter.viewOutput'>log</a> for further details."
     ]
    }
   ],
   "source": [
    "def reversePairs(self, nums: List[int]) -> int:\n",
    "    ans = [0]\n",
    "\n",
    "    def merge(l, mid, r):\n",
    "        print(\"merge\",l, mid, r)\n",
    "        i, j = 0, 0\n",
    "        arr = []\n",
    "        while i <= mid and j <= r:\n",
    "            print(i, j)\n",
    "            if nums[i] > nums[j]:\n",
    "                arr.append(nums[j])\n",
    "                j += 1\n",
    "            else:\n",
    "                arr.append(nums[i])\n",
    "                i += 1\n",
    "        \n",
    "        while i <= mid:\n",
    "            arr.append(nums[i])\n",
    "            i += 1                \n",
    "\n",
    "        while j <= r:\n",
    "            arr.append(nums[j])\n",
    "            i += 1  \n",
    "\n",
    "        for i in range(l, mid + 1):\n",
    "            nums[i] = arr[l - i]\n",
    "        \n",
    "        return\n",
    "    def countPairs(l, mid, r):\n",
    "        j = mid + 1\n",
    "        cnt = 0\n",
    "        for i in range(l, mid + 1):\n",
    "            while j < r and nums[i] > 2 * nums[j]:\n",
    "                j += 1\n",
    "            \n",
    "            cnt += j - mid - 1\n",
    "        return cnt\n",
    "\n",
    "    def mergeSort(l, r):\n",
    "        if l == r:\n",
    "            return\n",
    "        mid = l + (r - l) // 2\n",
    "        mergeSort(l, mid)\n",
    "        mergeSort(mid + 1, r)\n",
    "        ans[0] += countPairs(l, mid, r)\n",
    "        return merge(l, mid, r)\n",
    "    \n",
    "    mergeSort(0, len(nums) - 1)\n",
    "    return ans[0]\n",
    "\n",
    "nums = [1,3,2,3,1]\n",
    "print(reversePairs(nums))"
   ]
  },
  {
   "cell_type": "code",
   "execution_count": null,
   "metadata": {},
   "outputs": [],
   "source": []
  }
 ],
 "metadata": {
  "kernelspec": {
   "display_name": "Python 3",
   "language": "python",
   "name": "python3"
  },
  "language_info": {
   "codemirror_mode": {
    "name": "ipython",
    "version": 3
   },
   "file_extension": ".py",
   "mimetype": "text/x-python",
   "name": "python",
   "nbconvert_exporter": "python",
   "pygments_lexer": "ipython3",
   "version": "3.12.4"
  }
 },
 "nbformat": 4,
 "nbformat_minor": 2
}
