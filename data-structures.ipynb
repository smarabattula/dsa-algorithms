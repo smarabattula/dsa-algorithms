{
 "cells": [
  {
   "cell_type": "markdown",
   "metadata": {},
   "source": [
    "# Roadmap\n",
    "\n",
    "## All sorting techniques\n",
    "Selection Sort\n",
    "\n",
    "Insertion Sort \n",
    "\n",
    "Bubble Sort \n",
    "\n",
    "Merge Sort \n",
    "\n",
    "Quick Sort \n",
    "\n",
    "Counting Sort \n",
    "\n",
    "Bucket Sort \n",
    "\n",
    "Radix Sort \n",
    "\n",
    "\n",
    "## Data Structures to Learn:\n",
    " Arrays, Strings, Hash Tables, Stacks and Queues, Heaps, Linked Lists, Trees, Graphs\n"
   ]
  },
  {
   "cell_type": "markdown",
   "metadata": {},
   "source": [
    "## Sorting techniques"
   ]
  },
  {
   "cell_type": "markdown",
   "metadata": {},
   "source": [
    "### Selection Sort\n",
    "\n",
    "Selection sort is a simple and efficient sorting algorithm that works by repeatedly selecting the smallest (or largest) element from the unsorted portion of the list and moving it to the sorted portion of the list. "
   ]
  },
  {
   "cell_type": "code",
   "execution_count": 51,
   "metadata": {},
   "outputs": [
    {
     "name": "stdout",
     "output_type": "stream",
     "text": [
      "[1, 5, 6, 9, 10, 12]\n"
     ]
    }
   ],
   "source": [
    "# Selection Sort\n",
    "\n",
    "a = [6,5,12,10,9,1]\n",
    "\n",
    "\n",
    "for i in range(len(a)):\n",
    "    min_num = float(\"inf\")\n",
    "    min_index = i\n",
    "    j = i\n",
    "    while j <= len(a)-1:\n",
    "        if a[j] <= min_num:\n",
    "            min_index = j\n",
    "            min_num = a[min_index]\n",
    "        j += 1\n",
    "    print(a,a[i],a[min_index])\n",
    "    # a[i],a[min_index] = a[min_index] , a[i]\n",
    "    # Swapping the found minimum element with the first element using XOR\n",
    "    if i != min_index:\n",
    "        a[i] = a[i] ^ a[min_index]\n",
    "        a[min_index] = a[i] ^ a[min_index]\n",
    "        a[i] = a[i] ^ a[min_index]\n",
    "\n",
    "print(a)\n"
   ]
  },
  {
   "cell_type": "markdown",
   "metadata": {},
   "source": [
    "### Insertion Sort\n",
    "To sort an array of size N in ascending order \n",
    "\n",
    "- iterate over the array and compare the current element (key) to its predecessor, if the key element is smaller than its predecessor, compare it to the elements before. \n",
    "\n",
    "- Move the greater elements one position up to make space for the swapped element."
   ]
  },
  {
   "cell_type": "code",
   "execution_count": 30,
   "metadata": {},
   "outputs": [
    {
     "name": "stdout",
     "output_type": "stream",
     "text": [
      "0 0 [5, 6, 12, 10, 9, 1]\n",
      "2 2 [5, 6, 10, 12, 9, 1]\n",
      "3 3 [5, 6, 10, 9, 12, 1]\n",
      "3 2 [5, 6, 9, 10, 12, 1]\n",
      "4 4 [5, 6, 9, 10, 1, 12]\n",
      "4 3 [5, 6, 9, 1, 10, 12]\n",
      "4 2 [5, 6, 1, 9, 10, 12]\n",
      "4 1 [5, 1, 6, 9, 10, 12]\n",
      "4 0 [1, 5, 6, 9, 10, 12]\n",
      "[1, 5, 6, 9, 10, 12]\n"
     ]
    }
   ],
   "source": [
    "# Insertion Sort\n",
    "\n",
    "a = [6,5,12,10,9,1]\n",
    "\n",
    "for i in range(len(a)-1):\n",
    "    j = i + 1\n",
    "    while j > 0 and a[j-1] > a[j]:\n",
    "        a[j], a[j-1] = a[j-1], a[j]\n",
    "        j -= 1\n",
    "        print(i,j,a)\n",
    "print(a)\n"
   ]
  },
  {
   "cell_type": "markdown",
   "metadata": {},
   "source": [
    "### Bubble Sort\n",
    "In Bubble Sort algorithm, \n",
    "\n",
    "- traverse from left and compare adjacent elements and the higher one is placed at right side.\n",
    "\n",
    "- In this way, the largest element is moved to the rightmost end at first. \n",
    "\n",
    "- This process is then continued to find the second largest and place it and so on until the data is sorted."
   ]
  },
  {
   "cell_type": "code",
   "execution_count": 52,
   "metadata": {},
   "outputs": [
    {
     "name": "stdout",
     "output_type": "stream",
     "text": [
      "[11, 12, 22, 25, 34, 64, 90]\n"
     ]
    }
   ],
   "source": [
    "# Bubble Sort\n",
    "\n",
    "# if already sorted, Swapped flas will be false\n",
    "# so outer loop ends\n",
    "a = [64, 34, 25, 12, 22, 11, 90]\n",
    "\n",
    "for i in range(len(a)-1):\n",
    "    swapped = False\n",
    "\n",
    "    for j in range(len(a)-i-1):\n",
    "        if a[j] > a[j+1]:\n",
    "            a[j+1] , a[j] = a[j],a[j+1]\n",
    "            swapped = True\n",
    "    if swapped == False:\n",
    "        break\n",
    "print(a)"
   ]
  },
  {
   "cell_type": "markdown",
   "metadata": {},
   "source": [
    "### Merge Sort\n",
    "\n",
    "\n"
   ]
  },
  {
   "cell_type": "code",
   "execution_count": 55,
   "metadata": {},
   "outputs": [
    {
     "name": "stdout",
     "output_type": "stream",
     "text": [
      "[34, 25] [34] [25]\n",
      "[64, 34, 25] [64] [25, 34]\n",
      "[12, 22] [12] [22]\n",
      "[11, 90] [11] [90]\n",
      "[12, 22, 11, 90] [12, 22] [11, 90]\n",
      "[64, 34, 25, 12, 22, 11, 90] [25, 34, 64] [11, 12, 22, 90]\n",
      "[11, 12, 22, 25, 34, 64, 90]\n"
     ]
    }
   ],
   "source": [
    "a = [64, 34, 25, 12, 22, 11, 90]\n",
    "\n",
    "def mergeSort(arr):\n",
    "    if len(arr) > 1:\n",
    "        mid = len(arr) // 2\n",
    "        L = arr[:mid]\n",
    "        R = arr[mid:]\n",
    "        mergeSort(L)\n",
    "        mergeSort(R)\n",
    "        print(arr,L,R)\n",
    "        i = j = k = 0\n",
    "\n",
    "        # Copy data to temp arrays L[] and R[]\n",
    "        while i < len(L) and j < len(R):\n",
    "            if L[i] <= R[j]:\n",
    "                arr[k] = L[i]\n",
    "                i += 1\n",
    "            else:\n",
    "                arr[k] = R[j]\n",
    "                j += 1\n",
    "            k += 1\n",
    "\n",
    "        # Checking if any elements left in L, R\n",
    "        while i < len(L):\n",
    "            arr[k] = L[i]\n",
    "            i += 1\n",
    "            k += 1\n",
    "\n",
    "        while j < len(R):\n",
    "            arr[k] = R[j]\n",
    "            j += 1\n",
    "            k += 1\n",
    "\n",
    "mergeSort(a)\n",
    "print(a)"
   ]
  },
  {
   "cell_type": "markdown",
   "metadata": {},
   "source": [
    "# Regex"
   ]
  },
  {
   "cell_type": "code",
   "execution_count": 21,
   "metadata": {},
   "outputs": [
    {
     "name": "stdout",
     "output_type": "stream",
     "text": [
      "Anisha\n"
     ]
    }
   ],
   "source": [
    "# regex\n",
    "import re\n",
    "pattern = re.compile(\"A([^\\s]+)\")\n",
    "match = pattern.match(\"Anisha\")\n",
    "\n",
    "print(match.group())"
   ]
  },
  {
   "cell_type": "code",
   "execution_count": 22,
   "metadata": {},
   "outputs": [
    {
     "name": "stdout",
     "output_type": "stream",
     "text": [
      "nisha\n"
     ]
    }
   ],
   "source": [
    "pattern = \"A([^\\s]+)\"\n",
    "input = \"Anisha\"\n",
    "print(re.findall(pattern, input)[0])"
   ]
  },
  {
   "cell_type": "code",
   "execution_count": 74,
   "metadata": {},
   "outputs": [
    {
     "name": "stdout",
     "output_type": "stream",
     "text": [
      "['ania.sha', 'a.b']\n"
     ]
    }
   ],
   "source": [
    "pattern = \"[\\s]*([A-Za-z]+[\\.]+[A-Za-z]+)\"\n",
    "input = \"Anisha ania.sha fnishaa a. a.b\"\n",
    "print(re.findall(pattern, input))"
   ]
  },
  {
   "cell_type": "code",
   "execution_count": 6,
   "metadata": {},
   "outputs": [
    {
     "data": {
      "text/plain": [
       "35"
      ]
     },
     "execution_count": 6,
     "metadata": {},
     "output_type": "execute_result"
    }
   ],
   "source": [
    "file_path = './test_file.txt'\n",
    "\n",
    "# Read the file and extract the last column\n",
    "last_columns = []\n",
    "with open(file_path, 'r') as file:\n",
    "    for line in file:\n",
    "        columns = line.strip().split('\\t')\n",
    "        last_columns.append(columns[-1])\n",
    "\n"
   ]
  },
  {
   "cell_type": "code",
   "execution_count": 44,
   "metadata": {},
   "outputs": [
    {
     "name": "stdout",
     "output_type": "stream",
     "text": [
      "50 30\n",
      "50 20\n",
      "30 20\n",
      "50 40\n",
      "30 40\n",
      "50 70\n",
      "50 60\n",
      "70 60\n",
      "50 80\n",
      "70 80\n",
      "[20, 30, 40, 50, 60, 70, 80] [50, 30, 70, 20, 40, 60, 80]\n"
     ]
    }
   ],
   "source": [
    "class BSTListNode:\n",
    "    def __init__(self, value):\n",
    "        self.value = value\n",
    "        self.left = None\n",
    "        self.right = None\n",
    "\n",
    "# DFS Traversal of Tree\n",
    "# 123 is inorder, 213 is preorder, 132 is postorder\n",
    "def inorder(root):\n",
    "    res = []\n",
    "    if not root:\n",
    "        return []\n",
    "\n",
    "    left = inorder(root.left)\n",
    "    right = inorder(root.right)\n",
    "    res.extend(left) # 1\n",
    "    res.append(root.value) # 2\n",
    "    res.extend(right) # 3\n",
    "    return res\n",
    "\n",
    "# BFS Traversal of Tree\n",
    "def BFS(root):\n",
    "    res = []\n",
    "    queue = [root]\n",
    "    while queue:\n",
    "        curr = queue[0]\n",
    "        if curr.left:\n",
    "            queue.append(curr.left)\n",
    "        if curr.right:\n",
    "            queue.append(curr.right)\n",
    "        res.append(curr.value)\n",
    "        del queue[0]\n",
    "    return res\n",
    "\n",
    "# BST Insertion\n",
    "def insertNode(root,value):\n",
    "\n",
    "    if not root:\n",
    "        return BSTListNode(value)\n",
    "    print(root.value,value)\n",
    "    if value <= root.value:\n",
    "        root.left = insertNode(root.left, value)\n",
    "    else:\n",
    "        root.right = insertNode(root.right, value)\n",
    "    return root\n",
    "\n",
    "# BST Search\n",
    "def search(root,value):\n",
    "    if not root:\n",
    "        return root\n",
    "    if value < root.value:\n",
    "        return search(root.left,value)\n",
    "    else:\n",
    "        return search(root.right,value)\n",
    "\n",
    "def minValueNode(node):\n",
    "    \"\"\"Find the node with the minimum value in a given subtree.\"\"\"\n",
    "    current = node\n",
    "    while current.left is not None:\n",
    "        current = current.left\n",
    "    return current\n",
    "\n",
    "r = BSTListNode(50)\n",
    "r = insertNode(r, 30)\n",
    "r = insertNode(r, 20)\n",
    "r = insertNode(r, 40)\n",
    "r = insertNode(r, 70)\n",
    "r = insertNode(r, 60)\n",
    "r = insertNode(r, 80)\n",
    "\n",
    "print(inorder(r),BFS(r))"
   ]
  },
  {
   "cell_type": "code",
   "execution_count": 43,
   "metadata": {},
   "outputs": [],
   "source": [
    "search(r,70)\n"
   ]
  },
  {
   "cell_type": "code",
   "execution_count": 48,
   "metadata": {},
   "outputs": [],
   "source": [
    "# BST Delete\n",
    "def deleteNode(root,value):\n",
    "    if value not in inorder(root):\n",
    "        return \"Kukka adi delete avvadhu\"\n",
    "    if not root or root.value == value:\n",
    "        return root\n",
    "        # Recursive calls for ancestors of node to be deleted\n",
    "    if value < root.value:\n",
    "        root.left = deleteNode(root.left, value)\n",
    "    elif(value > root.val):\n",
    "        root.right = deleteNode(root.right, value)\n",
    "    else:\n",
    "        # Node with only one child or no child\n",
    "        if root.left is None:\n",
    "            temp = root.right\n",
    "            root = None\n",
    "            return temp\n",
    "        elif root.right is None:\n",
    "            temp = root.left\n",
    "            root = None\n",
    "            return temp\n",
    "        # Node with two children: Get the inorder successor\n",
    "        temp = minValueNode(root.right)\n",
    "\n",
    "        # Copy the inorder successor's content to this node\n",
    "        root.value = temp.value\n",
    "\n",
    "        # Delete the inorder successor\n",
    "        root.right = deleteNode(root.right, temp.val)\n",
    "\n",
    "    return root\n"
   ]
  },
  {
   "cell_type": "code",
   "execution_count": 49,
   "metadata": {},
   "outputs": [
    {
     "data": {
      "text/plain": [
       "'Kukka adi delete avvadhu'"
      ]
     },
     "execution_count": 49,
     "metadata": {},
     "output_type": "execute_result"
    }
   ],
   "source": [
    "deleteNode(r,10)"
   ]
  },
  {
   "cell_type": "code",
   "execution_count": 47,
   "metadata": {},
   "outputs": [
    {
     "data": {
      "text/plain": [
       "[20, 30, 40, 50, 60, 70, 80]"
      ]
     },
     "execution_count": 47,
     "metadata": {},
     "output_type": "execute_result"
    }
   ],
   "source": [
    "inorder(r)"
   ]
  },
  {
   "cell_type": "code",
   "execution_count": null,
   "metadata": {},
   "outputs": [],
   "source": []
  }
 ],
 "metadata": {
  "kernelspec": {
   "display_name": "Python 3",
   "language": "python",
   "name": "python3"
  },
  "language_info": {
   "codemirror_mode": {
    "name": "ipython",
    "version": 3
   },
   "file_extension": ".py",
   "mimetype": "text/x-python",
   "name": "python",
   "nbconvert_exporter": "python",
   "pygments_lexer": "ipython3",
   "version": "3.11.5"
  }
 },
 "nbformat": 4,
 "nbformat_minor": 2
}
