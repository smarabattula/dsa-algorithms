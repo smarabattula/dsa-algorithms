{
 "cells": [
  {
   "cell_type": "markdown",
   "metadata": {},
   "source": [
    "# Roadmap\n",
    "\n",
    "## All sorting techniques\n",
    "Selection Sort\n",
    "\n",
    "Insertion Sort \n",
    "\n",
    "Bubble Sort \n",
    "\n",
    "Merge Sort \n",
    "\n",
    "Quick Sort \n",
    "\n",
    "Counting Sort \n",
    "\n",
    "Bucket Sort \n",
    "\n",
    "Radix Sort \n",
    "\n",
    "\n",
    "## Data Structures to Learn:\n",
    " Arrays, Strings, Hash Tables, Stacks and Queues, Heaps, Linked Lists, Trees, Graphs\n"
   ]
  },
  {
   "cell_type": "markdown",
   "metadata": {},
   "source": [
    "## Sorting techniques"
   ]
  },
  {
   "cell_type": "code",
   "execution_count": 18,
   "metadata": {},
   "outputs": [
    {
     "name": "stdout",
     "output_type": "stream",
     "text": [
      "[6, 5, 12, 10, 9, 1] 6 1\n",
      "[1, 5, 12, 10, 9, 6] 5 5\n",
      "[1, 5, 12, 10, 9, 6] 12 6\n",
      "[1, 5, 6, 10, 9, 12] 10 9\n",
      "[1, 5, 6, 9, 10, 12] 10 10\n",
      "[1, 5, 6, 9, 10, 12] 12 12\n",
      "[1, 5, 6, 9, 10, 12]\n"
     ]
    }
   ],
   "source": [
    "# Selection Sort\n",
    "\n",
    "a = [6,5,12,10,9,1]\n",
    "\n",
    "\n",
    "for i in range(len(a)):\n",
    "    min_num = float(\"inf\")\n",
    "    min_index = i\n",
    "    j = i\n",
    "    while j <= len(a)-1:\n",
    "        if a[j] <= min_num:\n",
    "            min_index = j\n",
    "            min_num = a[min_index]\n",
    "        j += 1\n",
    "    print(a,a[i],a[min_index])\n",
    "    # a[i],a[min_index] = a[min_index] , a[i]\n",
    "    # Swapping the found minimum element with the first element using XOR\n",
    "    if i != min_index:\n",
    "        a[i] = a[i] ^ a[min_index]\n",
    "        a[min_index] = a[i] ^ a[min_index]\n",
    "        a[i] = a[i] ^ a[min_index]\n",
    "\n",
    "print(a)\n"
   ]
  },
  {
   "cell_type": "code",
   "execution_count": 30,
   "metadata": {},
   "outputs": [
    {
     "name": "stdout",
     "output_type": "stream",
     "text": [
      "0 0 [5, 6, 12, 10, 9, 1]\n",
      "2 2 [5, 6, 10, 12, 9, 1]\n",
      "3 3 [5, 6, 10, 9, 12, 1]\n",
      "3 2 [5, 6, 9, 10, 12, 1]\n",
      "4 4 [5, 6, 9, 10, 1, 12]\n",
      "4 3 [5, 6, 9, 1, 10, 12]\n",
      "4 2 [5, 6, 1, 9, 10, 12]\n",
      "4 1 [5, 1, 6, 9, 10, 12]\n",
      "4 0 [1, 5, 6, 9, 10, 12]\n",
      "[1, 5, 6, 9, 10, 12]\n"
     ]
    }
   ],
   "source": [
    "# Insertion Sort\n",
    "\n",
    "a = [6,5,12,10,9,1]\n",
    "\n",
    "for i in range(len(a)-1):\n",
    "    j = i + 1\n",
    "    while j > 0 and a[j-1] > a[j]:\n",
    "        a[j], a[j-1] = a[j-1], a[j]\n",
    "        j -= 1\n",
    "        print(i,j,a)\n",
    "print(a)\n"
   ]
  },
  {
   "cell_type": "code",
   "execution_count": null,
   "metadata": {},
   "outputs": [],
   "source": []
  }
 ],
 "metadata": {
  "kernelspec": {
   "display_name": "Python 3",
   "language": "python",
   "name": "python3"
  },
  "language_info": {
   "codemirror_mode": {
    "name": "ipython",
    "version": 3
   },
   "file_extension": ".py",
   "mimetype": "text/x-python",
   "name": "python",
   "nbconvert_exporter": "python",
   "pygments_lexer": "ipython3",
   "version": "3.11.5"
  }
 },
 "nbformat": 4,
 "nbformat_minor": 2
}
