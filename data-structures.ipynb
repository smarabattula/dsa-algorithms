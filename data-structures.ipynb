{
 "cells": [
  {
   "cell_type": "markdown",
   "metadata": {},
   "source": [
    "# Roadmap\n",
    "\n",
    "## All sorting techniques\n",
    "Selection Sort\n",
    "\n",
    "Insertion Sort \n",
    "\n",
    "Bubble Sort \n",
    "\n",
    "Merge Sort \n",
    "\n",
    "Quick Sort \n",
    "\n",
    "Counting Sort \n",
    "\n",
    "Bucket Sort \n",
    "\n",
    "Radix Sort \n",
    "\n",
    "\n",
    "## Data Structures to Learn:\n",
    " Arrays, Strings, Hash Tables, Stacks and Queues, Heaps, Linked Lists, Trees, Graphs\n"
   ]
  },
  {
   "cell_type": "markdown",
   "metadata": {},
   "source": [
    "## Sorting techniques"
   ]
  },
  {
   "cell_type": "markdown",
   "metadata": {},
   "source": [
    "### Selection Sort\n",
    "\n",
    "Selection sort is a simple and efficient sorting algorithm that works by repeatedly selecting the smallest (or largest) element from the unsorted portion of the list and moving it to the sorted portion of the list. "
   ]
  },
  {
   "cell_type": "code",
   "execution_count": 51,
   "metadata": {},
   "outputs": [
    {
     "name": "stdout",
     "output_type": "stream",
     "text": [
      "[1, 5, 6, 9, 10, 12]\n"
     ]
    }
   ],
   "source": [
    "# Selection Sort\n",
    "\n",
    "a = [6,5,12,10,9,1]\n",
    "\n",
    "\n",
    "for i in range(len(a)):\n",
    "    min_num = float(\"inf\")\n",
    "    min_index = i\n",
    "    j = i\n",
    "    while j <= len(a)-1:\n",
    "        if a[j] <= min_num:\n",
    "            min_index = j\n",
    "            min_num = a[min_index]\n",
    "        j += 1\n",
    "    print(a,a[i],a[min_index])\n",
    "    # a[i],a[min_index] = a[min_index] , a[i]\n",
    "    # Swapping the found minimum element with the first element using XOR\n",
    "    if i != min_index:\n",
    "        a[i] = a[i] ^ a[min_index]\n",
    "        a[min_index] = a[i] ^ a[min_index]\n",
    "        a[i] = a[i] ^ a[min_index]\n",
    "\n",
    "print(a)\n"
   ]
  },
  {
   "cell_type": "markdown",
   "metadata": {},
   "source": [
    "### Insertion Sort\n",
    "To sort an array of size N in ascending order \n",
    "\n",
    "- iterate over the array and compare the current element (key) to its predecessor, if the key element is smaller than its predecessor, compare it to the elements before. \n",
    "\n",
    "- Move the greater elements one position up to make space for the swapped element."
   ]
  },
  {
   "cell_type": "code",
   "execution_count": 30,
   "metadata": {},
   "outputs": [
    {
     "name": "stdout",
     "output_type": "stream",
     "text": [
      "0 0 [5, 6, 12, 10, 9, 1]\n",
      "2 2 [5, 6, 10, 12, 9, 1]\n",
      "3 3 [5, 6, 10, 9, 12, 1]\n",
      "3 2 [5, 6, 9, 10, 12, 1]\n",
      "4 4 [5, 6, 9, 10, 1, 12]\n",
      "4 3 [5, 6, 9, 1, 10, 12]\n",
      "4 2 [5, 6, 1, 9, 10, 12]\n",
      "4 1 [5, 1, 6, 9, 10, 12]\n",
      "4 0 [1, 5, 6, 9, 10, 12]\n",
      "[1, 5, 6, 9, 10, 12]\n"
     ]
    }
   ],
   "source": [
    "# Insertion Sort\n",
    "\n",
    "a = [6,5,12,10,9,1]\n",
    "\n",
    "for i in range(len(a)-1):\n",
    "    j = i + 1\n",
    "    while j > 0 and a[j-1] > a[j]:\n",
    "        a[j], a[j-1] = a[j-1], a[j]\n",
    "        j -= 1\n",
    "        print(i,j,a)\n",
    "print(a)\n"
   ]
  },
  {
   "cell_type": "markdown",
   "metadata": {},
   "source": [
    "### Bubble Sort\n",
    "In Bubble Sort algorithm, \n",
    "\n",
    "- traverse from left and compare adjacent elements and the higher one is placed at right side.\n",
    "\n",
    "- In this way, the largest element is moved to the rightmost end at first. \n",
    "\n",
    "- This process is then continued to find the second largest and place it and so on until the data is sorted."
   ]
  },
  {
   "cell_type": "code",
   "execution_count": 52,
   "metadata": {},
   "outputs": [
    {
     "name": "stdout",
     "output_type": "stream",
     "text": [
      "[11, 12, 22, 25, 34, 64, 90]\n"
     ]
    }
   ],
   "source": [
    "# Bubble Sort\n",
    "\n",
    "# if already sorted, Swapped flas will be false\n",
    "# so outer loop ends\n",
    "a = [64, 34, 25, 12, 22, 11, 90]\n",
    "\n",
    "for i in range(len(a)-1):\n",
    "    swapped = False\n",
    "\n",
    "    for j in range(len(a)-i-1):\n",
    "        if a[j] > a[j+1]:\n",
    "            a[j+1] , a[j] = a[j],a[j+1]\n",
    "            swapped = True\n",
    "    if swapped == False:\n",
    "        break\n",
    "print(a)"
   ]
  },
  {
   "cell_type": "markdown",
   "metadata": {},
   "source": [
    "### Merge Sort\n",
    "\n",
    "\n"
   ]
  },
  {
   "cell_type": "code",
   "execution_count": 55,
   "metadata": {},
   "outputs": [
    {
     "name": "stdout",
     "output_type": "stream",
     "text": [
      "[34, 25] [34] [25]\n",
      "[64, 34, 25] [64] [25, 34]\n",
      "[12, 22] [12] [22]\n",
      "[11, 90] [11] [90]\n",
      "[12, 22, 11, 90] [12, 22] [11, 90]\n",
      "[64, 34, 25, 12, 22, 11, 90] [25, 34, 64] [11, 12, 22, 90]\n",
      "[11, 12, 22, 25, 34, 64, 90]\n"
     ]
    }
   ],
   "source": [
    "a = [64, 34, 25, 12, 22, 11, 90]\n",
    "\n",
    "def mergeSort(arr):\n",
    "    if len(arr) > 1:\n",
    "        mid = len(arr) // 2\n",
    "        L = arr[:mid]\n",
    "        R = arr[mid:]\n",
    "        mergeSort(L)\n",
    "        mergeSort(R)\n",
    "        print(arr,L,R)\n",
    "        i = j = k = 0\n",
    "\n",
    "        # Copy data to temp arrays L[] and R[]\n",
    "        while i < len(L) and j < len(R):\n",
    "            if L[i] <= R[j]:\n",
    "                arr[k] = L[i]\n",
    "                i += 1\n",
    "            else:\n",
    "                arr[k] = R[j]\n",
    "                j += 1\n",
    "            k += 1\n",
    "\n",
    "        # Checking if any elements left in L, R\n",
    "        while i < len(L):\n",
    "            arr[k] = L[i]\n",
    "            i += 1\n",
    "            k += 1\n",
    "\n",
    "        while j < len(R):\n",
    "            arr[k] = R[j]\n",
    "            j += 1\n",
    "            k += 1\n",
    "\n",
    "mergeSort(a)\n",
    "print(a)"
   ]
  },
  {
   "cell_type": "code",
   "execution_count": 21,
   "metadata": {},
   "outputs": [
    {
     "name": "stdout",
     "output_type": "stream",
     "text": [
      "Anisha\n"
     ]
    }
   ],
   "source": [
    "# regex\n",
    "import re\n",
    "pattern = re.compile(\"A([^\\s]+)\")\n",
    "match = pattern.match(\"Anisha\")\n",
    "\n",
    "print(match.group())"
   ]
  },
  {
   "cell_type": "code",
   "execution_count": 22,
   "metadata": {},
   "outputs": [
    {
     "name": "stdout",
     "output_type": "stream",
     "text": [
      "nisha\n"
     ]
    }
   ],
   "source": [
    "pattern = \"A([^\\s]+)\"\n",
    "input = \"Anisha\"\n",
    "print(re.findall(pattern, input)[0])"
   ]
  },
  {
   "cell_type": "code",
   "execution_count": 74,
   "metadata": {},
   "outputs": [
    {
     "name": "stdout",
     "output_type": "stream",
     "text": [
      "['ania.sha', 'a.b']\n"
     ]
    }
   ],
   "source": [
    "pattern = \"[\\s]*([A-Za-z]+[\\.]+[A-Za-z]+)\"\n",
    "input = \"Anisha ania.sha fnishaa a. a.b\"\n",
    "print(re.findall(pattern, input))"
   ]
  },
  {
   "cell_type": "code",
   "execution_count": 80,
   "metadata": {},
   "outputs": [
    {
     "name": "stdout",
     "output_type": "stream",
     "text": [
      "('fy2020 q1', '2020', ' 1')\n",
      "fy2020 q1\n",
      "fy2020 q12020\n",
      "fy2020 q12020 1\n",
      "fy2020 q12020 1\n",
      "('fy2021 q1', '2021', ' 2')\n",
      "fy2021 q1\n",
      "fy2021 q12021\n",
      "fy2021 q12021 2\n",
      "fy2021 q12021 2\n"
     ]
    }
   ],
   "source": [
    "B = [(\"fy2020 q1\", \"2020\",\" 1\"),(\"fy2021 q1\", \"2021\",\" 2\")]\n",
    "for i in B:\n",
    "    print(i)\n",
    "    s = \"\"\n",
    "    for j in i:\n",
    "        s = s + j\n",
    "        print(s)\n",
    "    print(s)"
   ]
  },
  {
   "cell_type": "code",
   "execution_count": null,
   "metadata": {},
   "outputs": [],
   "source": []
  }
 ],
 "metadata": {
  "kernelspec": {
   "display_name": "Python 3",
   "language": "python",
   "name": "python3"
  },
  "language_info": {
   "codemirror_mode": {
    "name": "ipython",
    "version": 3
   },
   "file_extension": ".py",
   "mimetype": "text/x-python",
   "name": "python",
   "nbconvert_exporter": "python",
   "pygments_lexer": "ipython3",
   "version": "3.11.5"
  }
 },
 "nbformat": 4,
 "nbformat_minor": 2
}
