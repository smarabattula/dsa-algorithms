{
 "cells": [
  {
   "cell_type": "code",
   "execution_count": 6,
   "metadata": {},
   "outputs": [
    {
     "name": "stdout",
     "output_type": "stream",
     "text": [
      "['abc', 'acb', 'bac', 'bca', 'cba', 'cab']\n",
      "['ab', 'ba']\n",
      "24\n"
     ]
    }
   ],
   "source": [
    "# print(\"hello\")\n",
    "\n",
    "# input = 'ab' non repeating alphabets (lowercase only)\n",
    "# output = 'ab', 'ba'\n",
    "\n",
    "# 'abc' -> 'abc, acb, bac, bca, cab, cba'\n",
    "# n!\n",
    "\n",
    "# 'abc'\n",
    "# -------------\n",
    "# 'abc'\n",
    "# 'bac'\n",
    "# 'cab'\n",
    "# 'cba'\n",
    "\n",
    "def permutations(input):\n",
    "    inp = [i for i in input]\n",
    "\n",
    "    # 'abc' -> ['a','b','c']\n",
    "    ans = []\n",
    "    def backtrack(ind):\n",
    "        #base case\n",
    "        if ind == len(inp):\n",
    "            ans.append(''.join(inp))\n",
    "            return\n",
    "\n",
    "        # induction\n",
    "        for i in range(ind, len(inp)):\n",
    "            inp[ind], inp[i] = inp[i], inp[ind]\n",
    "            backtrack(ind + 1)\n",
    "            inp[ind], inp[i] = inp[i], inp[ind]\n",
    "\n",
    "        return ans\n",
    "    return backtrack(0)\n",
    "\n",
    "input = 'abc'\n",
    "print(permutations(input))\n",
    "\n",
    "input1 = 'ab'\n",
    "print(permutations(input1))\n",
    "\n",
    "input2 = 'abcd'\n",
    "print(len(permutations(input2)))"
   ]
  },
  {
   "cell_type": "code",
   "execution_count": null,
   "metadata": {},
   "outputs": [],
   "source": []
  }
 ],
 "metadata": {
  "kernelspec": {
   "display_name": "Python 3",
   "language": "python",
   "name": "python3"
  },
  "language_info": {
   "codemirror_mode": {
    "name": "ipython",
    "version": 3
   },
   "file_extension": ".py",
   "mimetype": "text/x-python",
   "name": "python",
   "nbconvert_exporter": "python",
   "pygments_lexer": "ipython3",
   "version": "3.12.4"
  }
 },
 "nbformat": 4,
 "nbformat_minor": 2
}
